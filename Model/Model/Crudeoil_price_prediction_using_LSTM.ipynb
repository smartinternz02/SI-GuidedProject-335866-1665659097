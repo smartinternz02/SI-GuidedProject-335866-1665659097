{
 "cells": [
  {
   "cell_type": "markdown",
   "metadata": {},
   "source": [
    "# Crude oil price prediction using LSTM"
   ]
  },
  {
   "cell_type": "raw",
   "metadata": {},
   "source": [
    "1.we will collect the data\n",
    "2.preprocess the data\n",
    "3.create an LSTM model\n",
    "4.predict the test data and plot the output\n",
    "5.predict the future 30 days and plot the output"
   ]
  },
  {
   "cell_type": "raw",
   "metadata": {},
   "source": [
    "Dataset link https://www.kaggle.com/rockbottom73/crude-oil-prices"
   ]
  },
  {
   "cell_type": "markdown",
   "metadata": {},
   "source": [
    "### importing necessary libraries"
   ]
  },
  {
   "cell_type": "code",
   "execution_count": 2,
   "metadata": {},
   "outputs": [],
   "source": [
    "import pandas as pd\n",
    "import numpy as np\n",
    "import matplotlib.pyplot as plt\n",
    "import tensorflow.keras\n",
    "import pickle"
   ]
  },
  {
   "cell_type": "markdown",
   "metadata": {},
   "source": [
    "# Importing dataset\n",
    "1.Since data is in form of excel file we have to use pandas read_excel to load the data\n",
    "2.After loading it is important to check the complete information of data as it can indication many of the hidden infomation such as null values in a column or a row\n",
    "3.Check whether any null values are there or not. if it is present then following can be done, a.Imputing data using Imputation method in sklearn b.Filling NaN values with mean, median and mode using fillna() method\n",
    "4.Describe data --> which can give statistical analysis"
   ]
  },
  {
   "cell_type": "code",
   "execution_count": 5,
   "metadata": {},
   "outputs": [],
   "source": [
    "data=pd.read_excel(r\"C:\Users\user\Desktop\Crude Oil Prices Daily.xlsx\")"
   ]
  },
  {
   "cell_type": "code",
   "execution_count": 6,
   "metadata": {},
   "outputs": [
    {
     "data": {
      "text/html": [
       "<div>\n",
       "<style scoped>\n",
       "    .dataframe tbody tr th:only-of-type {\n",
       "        vertical-align: middle;\n",
       "    }\n",
       "\n",
       "    .dataframe tbody tr th {\n",
       "        vertical-align: top;\n",
       "    }\n",
       "\n",
       "    .dataframe thead th {\n",
       "        text-align: right;\n",
       "    }\n",
       "</style>\n",
       "<table border=\"1\" class=\"dataframe\">\n",
       "  <thead>\n",
       "    <tr style=\"text-align: right;\">\n",
       "      <th></th>\n",
       "      <th>Date</th>\n",
       "      <th>Closing Value</th>\n",
       "    </tr>\n",
       "  </thead>\n",
       "  <tbody>\n",
       "    <tr>\n",
       "      <th>0</th>\n",
       "      <td>1986-01-02</td>\n",
       "      <td>25.56</td>\n",
       "    </tr>\n",
       "    <tr>\n",
       "      <th>1</th>\n",
       "      <td>1986-01-03</td>\n",
       "      <td>26.00</td>\n",
       "    </tr>\n",
       "    <tr>\n",
       "      <th>2</th>\n",
       "      <td>1986-01-06</td>\n",
       "      <td>26.53</td>\n",
       "    </tr>\n",
       "    <tr>\n",
       "      <th>3</th>\n",
       "      <td>1986-01-07</td>\n",
       "      <td>25.85</td>\n",
       "    </tr>\n",
       "    <tr>\n",
       "      <th>4</th>\n",
       "      <td>1986-01-08</td>\n",
       "      <td>25.87</td>\n",
       "    </tr>\n",
       "  </tbody>\n",
       "</table>\n",
       "</div>"
      ],
      "text/plain": [
       "        Date  Closing Value\n",
       "0 1986-01-02          25.56\n",
       "1 1986-01-03          26.00\n",
       "2 1986-01-06          26.53\n",
       "3 1986-01-07          25.85\n",
       "4 1986-01-08          25.87"
      ]
     },
     "execution_count": 6,
     "metadata": {},
     "output_type": "execute_result"
    }
   ],
   "source": [
    "data.head()"
   ]
  },
  {
   "cell_type": "code",
   "execution_count": 7,
   "metadata": {},
   "outputs": [
    {
     "data": {
      "text/html": [
       "<div>\n",
       "<style scoped>\n",
       "    .dataframe tbody tr th:only-of-type {\n",
       "        vertical-align: middle;\n",
       "    }\n",
       "\n",
       "    .dataframe tbody tr th {\n",
       "        vertical-align: top;\n",
       "    }\n",
       "\n",
       "    .dataframe thead th {\n",
       "        text-align: right;\n",
       "    }\n",
       "</style>\n",
       "<table border=\"1\" class=\"dataframe\">\n",
       "  <thead>\n",
       "    <tr style=\"text-align: right;\">\n",
       "      <th></th>\n",
       "      <th>Date</th>\n",
       "      <th>Closing Value</th>\n",
       "    </tr>\n",
       "  </thead>\n",
       "  <tbody>\n",
       "    <tr>\n",
       "      <th>8218</th>\n",
       "      <td>2018-07-03</td>\n",
       "      <td>74.19</td>\n",
       "    </tr>\n",
       "    <tr>\n",
       "      <th>8219</th>\n",
       "      <td>2018-07-04</td>\n",
       "      <td>NaN</td>\n",
       "    </tr>\n",
       "    <tr>\n",
       "      <th>8220</th>\n",
       "      <td>2018-07-05</td>\n",
       "      <td>73.05</td>\n",
       "    </tr>\n",
       "    <tr>\n",
       "      <th>8221</th>\n",
       "      <td>2018-07-06</td>\n",
       "      <td>73.78</td>\n",
       "    </tr>\n",
       "    <tr>\n",
       "      <th>8222</th>\n",
       "      <td>2018-07-09</td>\n",
       "      <td>73.93</td>\n",
       "    </tr>\n",
       "  </tbody>\n",
       "</table>\n",
       "</div>"
      ],
      "text/plain": [
       "           Date  Closing Value\n",
       "8218 2018-07-03          74.19\n",
       "8219 2018-07-04            NaN\n",
       "8220 2018-07-05          73.05\n",
       "8221 2018-07-06          73.78\n",
       "8222 2018-07-09          73.93"
      ]
     },
     "execution_count": 7,
     "metadata": {},
     "output_type": "execute_result"
    }
   ],
   "source": [
    "data.tail()"
   ]
  },
  {
   "cell_type": "markdown",
   "metadata": {},
   "source": [
    "# describe analysis"
   ]
  },
  {
   "cell_type": "code",
   "execution_count": 8,
   "metadata": {},
   "outputs": [
    {
     "data": {
      "text/html": [
       "<div>\n",
       "<style scoped>\n",
       "    .dataframe tbody tr th:only-of-type {\n",
       "        vertical-align: middle;\n",
       "    }\n",
       "\n",
       "    .dataframe tbody tr th {\n",
       "        vertical-align: top;\n",
       "    }\n",
       "\n",
       "    .dataframe thead th {\n",
       "        text-align: right;\n",
       "    }\n",
       "</style>\n",
       "<table border=\"1\" class=\"dataframe\">\n",
       "  <thead>\n",
       "    <tr style=\"text-align: right;\">\n",
       "      <th></th>\n",
       "      <th>Closing Value</th>\n",
       "    </tr>\n",
       "  </thead>\n",
       "  <tbody>\n",
       "    <tr>\n",
       "      <th>count</th>\n",
       "      <td>8216.000000</td>\n",
       "    </tr>\n",
       "    <tr>\n",
       "      <th>mean</th>\n",
       "      <td>43.492139</td>\n",
       "    </tr>\n",
       "    <tr>\n",
       "      <th>std</th>\n",
       "      <td>29.616804</td>\n",
       "    </tr>\n",
       "    <tr>\n",
       "      <th>min</th>\n",
       "      <td>10.250000</td>\n",
       "    </tr>\n",
       "    <tr>\n",
       "      <th>25%</th>\n",
       "      <td>19.577500</td>\n",
       "    </tr>\n",
       "    <tr>\n",
       "      <th>50%</th>\n",
       "      <td>29.610000</td>\n",
       "    </tr>\n",
       "    <tr>\n",
       "      <th>75%</th>\n",
       "      <td>63.402500</td>\n",
       "    </tr>\n",
       "    <tr>\n",
       "      <th>max</th>\n",
       "      <td>145.310000</td>\n",
       "    </tr>\n",
       "  </tbody>\n",
       "</table>\n",
       "</div>"
      ],
      "text/plain": [
       "       Closing Value\n",
       "count    8216.000000\n",
       "mean       43.492139\n",
       "std        29.616804\n",
       "min        10.250000\n",
       "25%        19.577500\n",
       "50%        29.610000\n",
       "75%        63.402500\n",
       "max       145.310000"
      ]
     },
     "execution_count": 8,
     "metadata": {},
     "output_type": "execute_result"
    }
   ],
   "source": [
    "data.describe()"
   ]
  },
  {
   "cell_type": "code",
   "execution_count": 9,
   "metadata": {},
   "outputs": [
    {
     "name": "stdout",
     "output_type": "stream",
     "text": [
      "<class 'pandas.core.frame.DataFrame'>\n",
      "RangeIndex: 8223 entries, 0 to 8222\n",
      "Data columns (total 2 columns):\n",
      " #   Column         Non-Null Count  Dtype         \n",
      "---  ------         --------------  -----         \n",
      " 0   Date           8223 non-null   datetime64[ns]\n",
      " 1   Closing Value  8216 non-null   float64       \n",
      "dtypes: datetime64[ns](1), float64(1)\n",
      "memory usage: 128.6 KB\n"
     ]
    }
   ],
   "source": [
    "data.info()"
   ]
  },
  {
   "cell_type": "markdown",
   "metadata": {},
   "source": [
    "# Data Preprocessing"
   ]
  },
  {
   "cell_type": "markdown",
   "metadata": {},
   "source": [
    "## Checking or null values"
   ]
  },
  {
   "cell_type": "code",
   "execution_count": 10,
   "metadata": {},
   "outputs": [
    {
     "data": {
      "text/plain": [
       "Date             0\n",
       "Closing Value    7\n",
       "dtype: int64"
      ]
     },
     "execution_count": 10,
     "metadata": {},
     "output_type": "execute_result"
    }
   ],
   "source": [
    "data.isnull().sum()"
   ]
  },
  {
   "cell_type": "code",
   "execution_count": 11,
   "metadata": {},
   "outputs": [
    {
     "data": {
      "text/plain": [
       "(8223, 2)"
      ]
     },
     "execution_count": 11,
     "metadata": {},
     "output_type": "execute_result"
    }
   ],
   "source": [
    "data.shape"
   ]
  },
  {
   "cell_type": "code",
   "execution_count": 12,
   "metadata": {},
   "outputs": [],
   "source": [
    "#data.dropna(axis=0,inplace=True)   "
   ]
  },
  {
   "cell_type": "code",
   "execution_count": 13,
   "metadata": {},
   "outputs": [],
   "source": [
    "data[\"Closing Value\"].fillna(data[\"Closing Value\"].mean(),inplace=True)"
   ]
  },
  {
   "cell_type": "code",
   "execution_count": 14,
   "metadata": {},
   "outputs": [
    {
     "data": {
      "text/plain": [
       "Date             0\n",
       "Closing Value    0\n",
       "dtype: int64"
      ]
     },
     "execution_count": 14,
     "metadata": {},
     "output_type": "execute_result"
    }
   ],
   "source": [
    "data.isnull().sum()"
   ]
  },
  {
   "cell_type": "code",
   "execution_count": 15,
   "metadata": {},
   "outputs": [
    {
     "data": {
      "text/plain": [
       "(8223, 2)"
      ]
     },
     "execution_count": 15,
     "metadata": {},
     "output_type": "execute_result"
    }
   ],
   "source": [
    "data.shape"
   ]
  },
  {
   "cell_type": "markdown",
   "metadata": {},
   "source": [
    "### Selecting Closing value column for prediction"
   ]
  },
  {
   "cell_type": "code",
   "execution_count": 16,
   "metadata": {},
   "outputs": [],
   "source": [
    "data_oil=data.reset_index()['Closing Value']"
   ]
  },
  {
   "cell_type": "code",
   "execution_count": 17,
   "metadata": {},
   "outputs": [
    {
     "data": {
      "text/plain": [
       "0       25.560000\n",
       "1       26.000000\n",
       "2       26.530000\n",
       "3       25.850000\n",
       "4       25.870000\n",
       "          ...    \n",
       "8218    74.190000\n",
       "8219    43.492139\n",
       "8220    73.050000\n",
       "8221    73.780000\n",
       "8222    73.930000\n",
       "Name: Closing Value, Length: 8223, dtype: float64"
      ]
     },
     "execution_count": 17,
     "metadata": {},
     "output_type": "execute_result"
    }
   ],
   "source": [
    "data_oil"
   ]
  },
  {
   "cell_type": "code",
   "execution_count": 18,
   "metadata": {},
   "outputs": [
    {
     "data": {
      "text/plain": [
       "[<matplotlib.lines.Line2D at 0x1cd794f29a0>]"
      ]
     },
     "execution_count": 18,
     "metadata": {},
     "output_type": "execute_result"
    },
    {
     "data": {
      "image/png": "iVBORw0KGgoAAAANSUhEUgAAAXcAAAD4CAYAAAAXUaZHAAAAOXRFWHRTb2Z0d2FyZQBNYXRwbG90bGliIHZlcnNpb24zLjUuMSwgaHR0cHM6Ly9tYXRwbG90bGliLm9yZy/YYfK9AAAACXBIWXMAAAsTAAALEwEAmpwYAAA4KklEQVR4nO3dd3wUZf4H8M93d1NII4EktAChRHqPdFAEFAHFcnp4Fux3nt75U0+Fs97Z0PPU4zw9ORt2UVBRinQBkRJ6qAkQQyCQ0EIJ6c/vj53ZndmdLdnd2TL7fb9evLIzOzv7ZIDvPvvM83y/JIQAY4wxYzGFugGMMcYCj4M7Y4wZEAd3xhgzIA7ujDFmQBzcGWPMgCyhbgAApKeni+zs7FA3gzHGIsqmTZuOCyEytJ4Li+CenZ2NvLy8UDeDMcYiChH96uo5HpZhjDED4uDOGGMGxMGdMcYMiIM7Y4wZEAd3xhgzIA7ujDFmQBzcGWPMgDi4M8bw6fpfUXDsbKibwQIoLBYxMcZCp6q2Hk98kw8AKJo+IcStYYHCPXfGolx9AxfsMSIO7oxFuXquxmZIHNwZi3J19RzcjYiDO2NRrq6+IdRNYDrwGNyJ6H0iKiOifI3n/kJEgojSFfumEVEhEe0loisC3WDGWGDVcHA3JG967h8CGOe4k4jaAhgLoFixrzuAyQB6SK95i4jMAWkpY0wXPCxjTB6DuxBiFYCTGk+9DuAxAMp/GZMAfCGEqBZCHARQCGBgIBrKGNNHLffcDcmnMXciuhrAYSHENoen2gA4pNgukfZpneNeIsojorzy8nJfmsEYC4Ba7rkbUqODOxElAHgCwNNaT2vs0/yXI4SYKYTIFULkZmRoVolijAXBxiKtL+Ys0vmyQrUTgA4AthERAGQB2ExEA2HtqbdVHJsF4Ii/jWSM6eeZeTtD3QSmg0b33IUQO4QQmUKIbCFENqwBvb8Q4iiAeQAmE1EcEXUAkANgQ0BbzBhjzCNvpkJ+DuAXAF2IqISI7nJ1rBBiJ4DZAHYBWATgfiFEfaAayxhjzDseh2WEEDd5eD7bYfsFAC/41yzGGGP+4BWqjDFmQBzcGWPMgDi4M8aYAXFwZ4wxA+LgzlgU21FSEeomMJ1wcGcsilXV8Uxlo+LgzlgUs5i0MoYwI+DgzlgUk1KIMAPi4M5YFOPQblwc3BmLYtxxNy4O7oxFMcGp3A2LgztjUaxBEd0TY7kippFwcGcsiimD+/kanhZpJBzcGYtijsWx8w/zoiaj4ODOWBR7fek+1XZpRVWIWsICjYM7Y1Fs3QF1/dT6Br7DahQc3BljNhzcjYODO2NRrFNGomq7rqEhRC1hgcbBnbEodl3/LNV20fFKXOBZM4bAwZ2xKNbgMAzz+tJ9uPujjSFqDQskj8GdiN4nojIiylfs+wcR7SGi7UT0DRGlKp6bRkSFRLSXiK7Qqd2MsQCol+a5j+qSYdv3c+GJUDWHBZA3PfcPAYxz2LcEQE8hRG8A+wBMAwAi6g5gMoAe0mveIiJe9sZYmJJ77g9c1jnELWGB5jG4CyFWATjpsG+xEKJO2lwHQB64mwTgCyFEtRDiIIBCAAMD2F7GWADVCwGziWA28Qit0QTib/ROAAulx20AHFI8VyLtc0JE9xJRHhHllZeXB6AZjLHG+s+K/ahvECg5VRnqprAA8yu4E9ETAOoAfCrv0jhMc+KsEGKmECJXCJGbkZGhdQhjLEhKT/PKVKOx+PpCIpoCYCKA0ULYsg+VAGirOCwLwBHfm8cYC4YerVNC3QQWYD713IloHIDHAVwthFB+n5sHYDIRxRFRBwA5ADb430zGmJ46ZyaFugkswDz23InocwCXAkgnohIAz8A6OyYOwBKpBuM6IcQfhBA7iWg2gF2wDtfcL4TgFRGMhTmupWo8HoO7EOImjd3vuTn+BQAv+NMoxlhwmU0c3I2G5z8xxmDmnrvhcHBnLEopUw/wNHfj4b9SxqJUrSIDpIl77obDwZ2xKFVbH/zc7XM2leDd1QeC/r7RyOd57oyxyFZbZ++5x1qC08975KttAIC7R3QMyvtFM+65MxallMMyMWYTRl6k70rxLcWndD0/U+PgzliUkodlXrm+NwCgb1ZTXd9vc/FpXc/P1Di4MxalVu+zJuzbUGRN+hrJC5nmby/FlxuLQ92MsMJj7oxFqalzdwAA9hw9A0D/GTP2FFSBd/9nmwEAv724nW7vEWm4585YlHvk8i4AAL0XqXqK7XX1Dch9fgm+23pY34ZECQ7ujEW5pk1iAAAmnaP7qcoat8+fr67H8XM1ePCLrbq2I1pwcGcsylmkoK73kPuXGw+5fV4oSj9U1XqfbzB76ny3z+cfrsC4N1Y16pxGwMGdsShUr0w9IEV1vcfcs9KaeN2mLV7OrHEcx6+rb3A6ZuK/12DP0bPYdsi7cxoFB3fGolCNYgGTxSwHd33fs22zBLfPK4P7WysLvTpndZ06mFfVOQd32Q/bS706p1FwcGcsCqmCuxTV4yxmXd+zqtZ14AWAWkVwX11wHLtLz3g854sLdju8h/PQS6zZGuZOehjzNxoO7oxFoep6exA0Sykh9czpXlFZi6W7j7k9pt4h182vJ857PG9ljTqYy8G94NhZZE+djx0lFaiRhmrmby/FyfPRE+A5uDMWhZRJw+RZLHoOuZectlfjjHORx6auQd2zjzF7Dk+ZyXGq7XPVdQCAJdIHyVVvrlE9H003VTm4MxaFlL3kC1LvV88bqspzu/qGoBxzB7xLZta/XZpq+4+fWhcz1bgYe3d8DyPj4M5YFGpQzDLp2dqaU0bPakzKUwvhHGR3lFRg7OurVPssXlQQceztHyi3DuW8sbRA8/gGHVfJhhsO7oxFocKyc/YNcvipA1Kc/EJtPX7/8Sbb9sxV+52GTwDv0hU0Nid9Hffc7YjofSIqI6J8xb5mRLSEiAqkn2mK56YRUSER7SWiK/RqOGPMdwvyFdMCpXin57CMY49ZeXP1xQV7NF/jTSCulW6Wzv79EK/awcMyah8CGOewbyqAZUKIHADLpG0QUXcAkwH0kF7zFhHpO7+KMdZox85U2R7LgVfPee6+BNV6L3rudVLPvXVqvGr/df3bBKwdkcpjcBdCrAJw0mH3JACzpMezAFyj2P+FEKJaCHEQQCGAgYFpKmMsUH4uPGF7nBRvTQ6r52yZxgyHDGhvHQhwnBqpRS44EmM2YXyvluicmYSGBoGtLlajcnD3rIUQohQApJ+Z0v42AJQJJEqkfYyxMLFiT5lqW55yqOewTH2D8+yVD38+qHnsHcOyAXg5LFNnD+5xFjOq6+px0ZMLbTdWZX8eneP1OY0i0DdUtf51aF5NIrqXiPKIKK+8vDzAzWCMabnvk02448ONtu1Zd9q/WOsZ3Os0euHPfr8L1XXO886T4qzfJORe9oIdpVi7/7j2eaVjLGaCiQiHTl5wCuC/H9nR/m1A40PGqHwN7seIqBUASD/lrkAJgLaK47IAHNE6gRBiphAiVwiRm5Ghb+1GxpjVwvyjqu1+7VJtj/UclnE1HKIVa+XgLk9z/OOnm/G7/60HYJ1Bc+T0Bduxz8+3ph+IMZkwZ3OJ5ntMG9/NlmLhXDUvYvJkHoAp0uMpAL5T7J9MRHFE1AFADoAN/jWRMaaXlPgY22Nde+4ugrvjPHUASHTouSt9tqEYQ6cvx4Idpapev5z8zNG7t+UCAEorrDeQp7wfPeHIY5k9IvocwKUA0omoBMAzAKYDmE1EdwEoBnADAAghdhLRbAC7ANQBuF8IET0flYxFkJR49X9/PZNCNqbnLq9gXZR/FEM7paue2/TrKQDW3vzwzvbnLC6m+ozp3gIAcF5KSxBNPAZ3IcRNLp4a7eL4FwC84E+jGGOBV3yiUrXtmAZAzwLZWmPrgPZ0R3lY5uT5GoyfsVr1XPnZatvjNYX2cXgiQrtmCSg+qf4dZdcPyMIz83Y2ut2RjFeoMhYlys5WqbbNDsv79ZznLq8knf/n4ar99Q0CTWLsS2Fe+U1vNE+KBQCM6prplMVxdYH2jVUAePHaXqrtR6/oYnssf2AAcHlz1mg4uDMWJRz7yI5JF4OxQjXOYsaYbpmq/V1bJdu2b8xta8u/7liIw5O4GPUv1LVlsuZx8s1Zo+PgzliUcBx3dgzmXuTp8pk8+mI2EZbuts+zr9NYcEREiLWYUF1Xj0Edmnn9Ho6ZIJvERvfieA7ujEWJVxfvVW3LM0hkeo65u0pxUFldB60sA3EWE6prG7D+oHVxfG77NOeDHDgG98RYj7cUDY2DO2NRYucR92Xr9JwtI0+Wcfy2oBx6eeX63rbHcRYzTivK4uX9espljnZZr6ymqu0E7rkzxqKBpzxceo2519Y32GaxEAF/uqyz7Tm5BB4A3Hixff1jnMWEb7eq1z9OnbNd8/xyuoL0JHVVpoQ4dc89u7n7At1Gw8GdMQZAv+Ce88RCzFhWYHuPZomxtufk3viVPVuqXqNVim/ulsOa57+sq/0G7ZMTutkeJ8Soe+4Te7duZMsjGwd3xhgAYFBH729e+spsItU3CDm4D89RL1Y6cNxzcWzZiBx7+pK7R3TEjJv6oVNGIlKaxKiOe3BMjg8tjlwc3BmLEk0dgp2jGLMJN+ZmoVXTeLfH+YPIOn9ddpuUDsDXEn8Terdy2nd1n9ZY9silTou0vCm4bSTR9dsyFsVyMpM8HmMiCmid0RPnqlXbJiJ0SE+05XyRuSqarWWAYubM5VJ6AeaMgztjUSJPysviDhEhkCnPH5q9TbUtj+s7BnNXib+0NEuMtY3RN+ZDAbB+GOi5EjeccHBnjNmYyLvC1N5atU9dq0EOrCaHCLun9Kxq+6aB7Vyes0VKHC7UWnPVNHa6Y3pyHJolxnk+0AA4uDPGbEwB7LlrzUuXg7pjFsdtJadV2+6Gx/94aWdU11rPHWtuXHC3mEgzzbARcXBnLMqM6WYdp+7bNtXpORPBpzH3vUfPYnOxetinssY5za48LOM47dJxeEX5/K2D26ueS02IsbWxscMyFpPJq9qsRhDd63MZi0L/u22Ay+eICA0+dN2veGMVAOs887tHdAQAVNVq9NylWOwYlOMtZofj7M8/c1V3fLzuV9WxT03sjie/zdf8gHLHYiZbUW2j4547Y1FiRE46urVKARHZ/jgyEXlcyeqOXPYOgG1c3PH8gPOwywOKVauA+tuDU6/eROjZpim+vX9Yo5ODWUykWc/ViDi4MxYlGoTweAPS12EZLVUawd0+1u4wW8YhJeVHv9h76oFMaGYdcxcBvWkcrji4MxYFzlXX4efCEy7L0clMpsDdUNXquVtc3Cn1FL9fuLYnAGD7s5f71Sb5/V2V/TMSHnNnLAo89/0uALCl0HWFGtlzX11Qjk4Z2ouj/vTZFrfvo+SqsIbs5kHtcfOg9m6P8UadlKjsTFWdKseNEXHPnbEo4DjV0JXGjrnf+t4GDJ2+XP1eh07j+21HcPj0Bdu+e0d2dMraqOTYo9cr8H6wtggA8M6q/bqcP5xwcGcsCuw7dtbzQQjMmPuk//yMP32u7rX/dXw35D05xutzfPvHYX61wZWzVdbpme/8dECX84cTv4I7ET1ERDuJKJ+IPieieCJqRkRLiKhA+um5hApjTFfepvM9WlHt1Q3H7SWnVT1zmTcVk7whF8kOtIkaicaMyufgTkRtAPwZQK4QoicAM4DJAKYCWCaEyAGwTNpmjIWQt8F9zuYSALAV13Dl6jd/xjCH4RgA6NYqpfGN06BXbvlRXTI9H2QQ/g7LWAA0ISILgAQARwBMAjBLen4WgGv8fA/GmJ9ysxvXo67zcTaJ1pDOsM7NnfZ5Ct16lXO9vId1de4VPYyfTdLn4C6EOAzgVQDFAEoBVAghFgNoIYQolY4pBaD5UUlE9xJRHhHllZeXax3CGAuQxq7k9HUeuNZnwqd3D3baF6tRaUlJr557cnwMUhNi0DJFv5z14cKfYZk0WHvpHQC0BpBIRLd4+3ohxEwhRK4QIjcjI8PzCxhjPqmorLUNs4zv1dLD0Vb1PqzQb5EShy0O+WWUZe+UurdKwd8n9XB5Lj3T8p6urMUsxSIpo/JnWGYMgINCiHIhRC2AuQCGAjhGRK0AQPpZ5n8zGWO+GvD8EvywvRSZyXF462bXeWWUBBrfczcTYc9R9awcVzdGiQi3Dcl2fa4oSbqulTkzUPwJ7sUABhNRAlnXB48GsBvAPABTpGOmAPjOvyYyxrQ0NAh8vqEY6w6ccHucPH7emDwsnlayOmqeGIsjFVUa5/EtxMgpB5TFr43m0MlKXPTkQszeeEiX8/sz5r4ewNcANgPYIZ1rJoDpAMYSUQGAsdI2YyzA3lxRiGlzd2DyzHVeHd8kxnNwf04aKomzuD5Wa+n+ifM1msf6U7e0aPoEvH/7xT6/3hOt3DfBVFh+DgAwf0epLuf3K/2AEOIZAM847K6GtRfPGNORY5UjT+K8CO5NYj2HhFqNAflYswk1GvtjGlE+L9h2HK7AxdnNQt0M3fAKVcYilDc1UZW52ZvEeP7vLodid6tUtYK4q9kvnma9NHb4J5B8yVsfSThxGGMRZteRMxg/Y7VXx1bV2YcevBmWkYfI3c2E1MqH7ipGe5ovv+GJMSEbHgmX0H6qUntIy1/cc2cswry5osDrYy/U2ANnvBfBffke61DPwvyjms+XVlzAywv3OO33NVA2S4xF69QmPr7aP4leDEHpqVaaKbO9pEKX83NwZyzCLNihHXi1KHOqexNEdpeeAQDkH3Y+9tiZKjz4xVZ8mec8u8NV7zsci2L877ZcAAh5ub0EnT9cOLgzZgAnXcxW+Ulx01Ur0ZcjeXTFcZ77gh2lGPTiMmxwkQ++a0vtnDKDOjinHgi1+JjQF+wQQuC7rYd1fQ8O7owZwL+Xaw/VtEj2bZm9Y4d766HTbo9v2VT7fZomxPj0/nqS595rzfoJls3Fp/HVphJd34ODO2MG4CpXyvmaOttjbwpgyLNbHIP7IQ9ZIlspgntOprUyU/92qR7fLxTk6Zmh7Llf//Za3d+DZ8swFqaEELhQW+/V2Gy1i2XscnEKAMhMdl0JSSbPXFy0Uz2u7+r8gDV/zC2D22POphKcr6nHu1NycexMNXq0Dkz630CTUxtozfoJljapTbwaJvMH99wZC1PvrTmI7k//iLKzzsv6Hc1Ypj0sc77aHtwtXiwoauHiG8CInHSXr7l9aDbiY8y2UnkEwsAOzZAYF559R3nVbCiHZW7Mbav7e3BwZyxMLd55DACwv+y8x2MfGnuR5v6XFNMWR3f1nMP80Su6aO4/fMq5l3l1n9ZIjLUHdXlBkl652ANF7rmHclhGnpWkp/D8aGWM2YKQvFr0zg83YpvDjc1JfVvju61HPGZRXDv1Mpe9cqV4F6tY311z0GnfExO6YcZN/WzbrvLLhBt5zL02hMHdcdhLD9xzZyxMyQFbXoi0fE+ZKoCO69ESL1/fGwBQXet+iKF1ahOv0uhSI7rd8S6Si+m14jJQ5Nky9SGe5643Du6MhanNUuGLuz/K03z+nzf2QXyMGTFmQnWd8yIiX3KnmBsT3GPV4UOun6pXFaVAkT/kakN0Q7Ww7FxQ3oeHZRgLU5U17nOuyDcs4yxmp9ksX+UdwqNfb2/0ezamSEasQzrf8A7pdvIN1WDPlmloEHhtyT60b54QlPfj4M5YhIuPMTkt//clsAOAyUVwbxJjVqUyAJyHcOTNMMw4oGK/oRrcYZl1B0/gzRWFQXs/HpZhLAI45mh5aIx9doxWz91XrjruY7qrZ9p89YchTseE+WiMje2GapB77sHOfsnBnbEIsN4hp0tWmj2T4oXaepRWuF4QM6qL9wXoXY25O/ZytYpc/O3qnujVpilyWiR5/X6hIE/dDPZUyP+uPKDajnORAz9QOLgzFgEcS+nFKALDyfM1+LnwBN5bcxBXv7nGqZfv2Ot2x9VsGW8C4YD2afj+T8O9Si0cSvJ8/GBnhdxQpP6A/ueNfXR9Px5zZywM1XlYPVl8wnlh03M/7ALgnIu9Z+umXr+vYzZImXII4/lrenp9vnBkCYP0AwCw/oB2hs1A4Z47Y2FIq5SdkrvC08UOSb76tE31+n1d3QxVjhePzPF+mCcc2XLLhLjMXnJ8GOdzJ6JUIvqaiPYQ0W4iGkJEzYhoCREVSD/TAtVYxqLFmoLjbp+3uAnu0zUqJXmraRPtFL3K4B5jiZA7py4QESwmUn072vTrSQx9aZnmegG9TOrbRtfz+9tz/xeARUKIrgD6ANgNYCqAZUKIHADLpG3GWCPc+/Emt897W+Hok7sGNep9XY2XVylWwDrOb49EFjPZ7iPsLj2D69/+BUcqqnDZqz8FrQ1pifrmuvf5b4mIUgCMBPAeAAghaoQQpwFMAjBLOmwWgGv8ayJj0euxcdqJvLy5wTmkY3MMd5PNsTGUhbZjdJ7lEQwWk8l2H+Gtlftt+/VOw6tEOi/78udvqSOAcgAfENEWInqXiBIBtBBClAKA9DNT68VEdC8R5RFRXnl5udYhjEUlZWGMAe20RzW9SRnrTYpfLdf3z0Ibh6LV1QbsuddJs2UasSjXZ1qpIPReF+DP35IFQH8Abwsh+gE4j0YMwQghZgohcoUQuRkZkX2DhrFA+pciN3tSvAXX9XMem01TVFXqnaU9G8bXedwxisAHWGfuyD3aL+8dHPZTHb1hMZHthmp6kr2ISd9G3HxujI5/XaDLed3xJ7iXACgRQqyXtr+GNdgfI6JWACD9LPOviYxFF4uiK5kcF4PthyvcHv/g6BzN/b7OBjGbSDVNcNke+3/hQR3Dr+C1Lywmk+2GavdW9opRKS5uKOtB7y8MPgd3IcRRAIeISB4UHA1gF4B5AKZI+6YA+M6vFjIWJc5V1+G1xXsxWBFAE+PMTlkEHasidWmZrHk+33vuJlWVIm9qr0YaE9lLBypTNyTFBf5byZEgjuMr+TvR8k8APiWiWAAHANwB6wfGbCK6C0AxgBv8fA/GDGvrodPok9UURISez/wIwHojVOZYP/WbPw5F76xU1b6sNO0sgxc8ZJV0xWwi1QdDUpiWy/PHkYoqfLf1CP41uR/++s0O2349FjbN2VQS8HN6w687I0KIrdK4eW8hxDVCiFNCiBNCiNFCiBzpp77LsBiLUN9vO4Jr/vMzvth4SLVfXoTUvVUKmsTae5K9s5qiX7s0zbS8WuXxbsjN8qldFjOpqhTJAW9gB+d8MkbSOTMpqAubGlMYxReRf9ubsQj1+pJ9AIAvHYK7fPPywzsvBgAUvHAl/nZ1D8x7YLjLc90zoiNy29tn1nz/wHDcPjTb57bV1DXgnFRcW765et+lnXw+XyRIjLPoUjQ7VDegObgzFiIHjlvzw4zqojlb2DblMMZswhQPgTrWYsLX9w21bR87U+Vzz/D7rUcA2D985N6sJRhzBkMgLcF6EzXOYkKNH6mT528vRdmZKqf9wU5QJjPeYBpjEcZV0YhYPxYLJcT63luUg/nZqlpU1tTh2Xk7AdhrjxrJ0YoqnKqsRVpCDGLNJqeCJN549ce9qiIcRdMnqJ5ftU97HU/YzpZhjAVGXYPQTCfgz2KhXI18694qO1sNAPi58ATe+ekAdh45A8Be5MIIbpTuRwx+aRkA4FRlLc5U1WLTr6cafS7H6koPfLZZte0qK2c4L2JijPkhI9m6eKZzZpIqd4vMXXIwTwIRiA+fvoCKC7W27cbUVw137ZsnOu3bXmJdT+Ap3bInP2wvtT2urW/AlkOn/Tqfrzi4MxYizaX54/UNAusPngjouQM1E6PsrH0M2V2a4Ujj7sOvystx9/oGgU2/ak8GlLNoDnxhqU/fBgLBOH9bjEUYefHMmao6v27k6Uk5zu5rrppw5O6DqrKmzuVzry3eiy83FgMAej7zI65/+xfN43r/bTEA9x+y4Zw4jDHmB3mR0XM/7EKiw0KhJmGSv0V5J8BVfdVIpBXcX73BWvauqsb1B+2M5YV4fI510ZO7m681dQ0oO1Oly9RKb3FwZyxEjiqmzR0/V616Li7Gt/+a79+ei6cndverXbLkOIsqm2GSzpWDgknrZrU8w6iytg7zth1xG5j3l59z2nepQyHygS8uw9kq198C9Gacvy3GIojj7JgHv9iq2o7zcRrkZV29L4btSlpCDE5V1uKqvq1x8lyNbX+rpk3cvCqyOFaTuqhFku3b0rg3VgMAHh57Ef6sSMpWfMKeivm9NQdVr/9tblvkH3Gf4C3YuOfOWAh0mKadAnZS39YAAFMIh0Dk8m+frS/W7KEawc+F6hvYFpMJlQ65eMrPqr9N7T121vb4s/XFqudGXJRumzLqNZ4KyVj0uHVwewBAg5dl9PRwz8iOtseOw0VGcep8jWrbYiZVnVgA+Hjdr6rth77c6vJ8Jx3OFw44uDMWZO5S8cr5xEPZc1feOD1VWevmyMil/AADgL+O74ZOmUluXzO2u+shr6MVVejVRnuxUqhwcGcsyI5q5B+RZTdPxNBOzfHitb2C2CI1A61Vcsnxw7NLi2SPVZjcLeIymwhz7huK3wxwzsTZrpl2Sma9P7/5hipjQaaskeoo1mLCZ/cMDmJrnJmiILo75qj3NIf/fHUdvnaTl52IEGsxad4IH9ihmS2NczBxz52xIEtUFOC4QaOnF2paQ0L/vWVACFqin+6tU1TbrhY1yUNojuPxjjKSrKuN7xiWrdr/+LiueP6anj620j8c3BkLsm0lp22PTytyt3x7/7AQtMaZVsd9XM+WwW9IELkK7vLKYU9FPH43yHojvHNmMrY/e7lt/82D27nM585ZIRkzmCe/zbc9Pl9tX+TSKcM5mVUo6F0hKFwMUlSWcjWeXl1n7bEfrbDfJ2mZEu90nPL1ytXFyW5KFHIlJsYMTFktKVxSDhgp+6M7H981CON6uP9Gsij/qPVYxbTIeA+rh5VFTeQA3rqp8wdCvDQ+/0edKlzxDVXGgkQIgfEz1qj2KQty+JPiN5CiJLYj1mLCf27ub+udK13WNRPL95Rh6twdmDywnW3/NX1b41upUhUArPzLpU55geSAnimldAaAtdNGa7bBsbBHIPn9r4mIzES0hYh+kLabEdESIiqQfqZ5Ogdj0WDu5sPYXWpfxXjfpZ2w9+hZN68IDb2zFYYTs4mQEOvcx012yKMjz5S5e4R9fnzXlsnITk+05eVXmnPfUMz/84gAt7ZxAtFVeBDAbsX2VADLhBA5AJZJ20xyoaYePZ5ehCW7joW6KSzIHvlqm2r78XFdMVAx7stCTx5SURbcUK7SVS5Ae3xcV5fnGdA+TTPoB5NfwZ2IsgBMAPCuYvckALOkx7MAXOPPexhN0YnzOF9Tj1d/3BvqprAw0FlaFXmfTuOuvmjiR/3VSNdCulkq5/gBgLp6e0AXANqkWhOopUqFtcOVvz33NwA8BkCZG7OFEKIUAKSfmqXdieheIsojorzycu0CskY0a20RgNBVRGfhJTk+BkXTJ7jtBbLgkSewPKjIBqnM85MYa0a6NKc93Pkc3IloIoAyIcQmX14vhJgphMgVQuRmZGR4foFBfLHxEACENM8zC72EKO4dhzN5ppAQQJ+2qejWKkWV1z2nRTKeu6YnBmY3Q7dWKa5OExb86bkPA3A1ERUB+ALAZUT0CYBjRNQKAKSfZX630oD8qWzPwkdpxQUs2+35/skbS/eptl++vrdeTWJ+iLdYP3QbhEBKvAW7S8/gf6sPqI7pnZWK2X8Y4nJxUrjwOcIIIaYJIbKEENkAJgNYLoS4BcA8AFOkw6YA+M7vVhpQlKwTCRu7S8+oqgoFypCXluOuWXlYuKPU5TFnqmrxxtIC1b6KC8bMthjpZt42APdd2gkd0hOxuuA4AOCTdcUeXhWe9Og+TgcwlogKAIyVtpkDDu7Bs6X4FK7812q8u+aA54N9tKrA9X2j3s8udtoXSd/cpl0ZPfcD2jdPxOPjuhpilW5AFjEJIVYCWCk9PgFAe8Y+YyFQdOI8AODFBXuwdFcZPr1nkMtcIr4a17OV5v4dJdql1wRCV4yjsdISI+MGIlOLnO6DwRw6ecGwVW7CzZkL9pvXG4pO4sS5wFTNUQ7zmF309KbO3a7avqqPdYpduI/XKkV+HzY6cfqBEMorOmX4bHuhdPj0Bby/5qBTMeNA9Zr/ucS+VqGyRnv2k2NdzUcv74K+bVMxsXdrzePDkRGGKHyRldYEJacu2LaXPXJJCFvTeNxzZ4YihMCi/FLU1Tfgz59vcQrsgHpRij/+s2K//Zxe3qxNjDPjruEdIio5V+S0NLBm3ppre9wyJR6dMtyX4Qs3HNyDbFjn5rbHOw6fDl1DDGpR/lH84ZPNeGfVAVU6XaWa+sAvIFt/4ITTvi3Fp1TbM28dgOZJoV2S3lgXtUjC6G6a6xANT1nQo1aHfzN64+AeZMpeo7LnxwLj8Gnr1+jj56qxx0VSrkD8R3Uscj3rF2tK2Oq6elsZvWvfWqs65nIP6WXD0eKHLkFqAt9QPXE+MPdpgonH3INICOF0E7XLkwux9/krQ9Qi46mWKufsPHzG5THj3liN13/bB9f2873E3U/7nNfmXfXvNdhx2Do7ZmJv9eyZSy6KnlXYLDxwzz2I3ltzEPvLz6v2ycGIBYbca95QdNLtcQ99uc3t855opY+QAzugzirYLDEWH9x+sV/vx1hjcXAPosU7Oc2v3po2sWbqa6bD3Oy6+gbc+t56ZE+djws17gsmKy1+aCRMEXQDlRkDB/cguuChgjrzz7Ldx/DOKusq1JNejJFW1dbj7ZX7kS/1uKvr6t2mKHh18T7bkvT//mS9X/KbAZ6HdppF4Jh1VlqTUDeB+YmDexApv7azwLtrVp7L5169oQ8u795Cta/sTDVeXrQHE/+9BkIIdHlyEZ74dofTa1fsLcPB4+exdv9x276iE9bhnylDsj22KxJ77T/8aTiWPhxZ87qZGt9QZYbRJ6sptrlY7j+oQzNkJMdhsaIC1sh/rLA93lx8GgDw+YZDeOk6dcbGOz7YCEA7H1BinPuVpo+N6+JN08NOakIsz5JRiMQUzdxzZ4bw0sLdLgM7ACTFWdC1ZbLL569/e63m/jUF9t660BixSXKotTnnvqHo0sL6PomxZtwyuL27ZrMIkRIf3lWXtHBwD4EpQ/g/fKC985P7jI9J8RZbCTVvXaipxy3vrXd7jGN2xwHt09AxIxEAMP363hEZFJgxRHRwr28QePXHvSg/G1kJuMymiL7sXrvrw4146MutIW3DlqfG4qs/DPEpC2SVFzfAkzWC91hpbL9ds4RGvydjgRLRUWbt/uN4c0UhBr+0LNRNaZQOUs/OqDYWncS9H+Vh2Z4yfLPlsMs0AHoZ3LGZ7XFaYiwuzm7m5mi1a/u1sT3WKqiREGtGixR7CgGzibDiL5eqjpnUtw1+evRS9Gmb6n2jWVh6amJ3AMDQTs09HBl+Ijq4y2lTHZeCh7tbBrVDh3R7gC8sOxfC1vhn79GzmLGsAEIakK6orMUN//1FdeNyqRdl6PzhmJFx3QHXC5iSpTHyp6X/tI6U90x/2H7E6fldfx9nSyHcSfqQrnFYiGY2Edo3N/YHeLS4a3gHLH34Erx0fa9QN6XRIjq4yzfIJvTWLpSgp1PnazD6nytdBua5m0uwziGZVHpSLH43qB2ICB/dOdC2/3Sl85xsIUSjFsqEQm19A654YxVeW7LPlhp13L9WOR03dY7z9MJAufGdX9D96R9V+5S9b0c7nr0CRdMn4M7hHfDfWwbgpet6oXOmNdtfUpwFtYqOwqGTF1SvvVJKz7z68VFoEmPGnPuGAgA6Zybh5kHtsOrRUQH5nVh46ZyZhDgLz5YJquT4GGQ3T3BZKEFPy/eUYX/5eby1stDpuQPl5/Dw7G2YPHOdan9dg4BFmvPcVjEeq5Uv+6NffkW3pxdhxZ7wrS++veS07fErP1pzm5dWVDkdp+firQ0H7b30xFgz/nBJJ6QmWMfB/3BJJ7evHdezJW4a2A4f3nExXri2JzKT41B8wp4ewjFZ1NVSoY30pDjsfm6cbaqg2UR44dpeaNecx9hZ+Ijo4A5YZ0GcC/KYLmCf86y1ovF3/9OeYVHfIGDSCOQNGnPsnpm3EwBwx4cbnZ6bv73UlkMllJS/+vfbjjgNT8iaa6QCqLhQi9KKCxpH++7l3/TG1Cu74sHRObhnRAc8NDbHq9dlpSXg5kHtceD4eWwrqbB9YMTF2P97rHl8FK7sFfxviIz5KuKDe6zZ5DKouPPu6gP48GfnQg7ekuOxVq/76Bl773W1onByQ4PQLNIgL5IBrOPv1731s8v3nbGsAPd/thkjXlmBJbuO4cEvtmB/eWjG7E9Xqm84XvTkQtW2PL594nwNGhoEKhTHD5++HENeWu53GzKT7Tc35ZkrqQmxeGJCd5+/Sn+63pq+t6KyFp0yErHlqbHISuNeOYssPgd3ImpLRCuIaDcR7SSiB6X9zYhoCREVSD/TAtdcZ7EW34L78/N349nvd/k8ri3nBP9my2G3+cE/+LnI9rheaAf3c9V1yJ46H795ey3GvPaTbbWkTNnG15bssz2+56M8fLf1CK57S3sBjt7u+cj1cv+XruuFtVMvs213/OsC9Pn7YszZVAIAOCt926qu833IJv9wBcoU02DTkwKzovK7rUdQWHYO20tOo22zBC4QzSKSPz33OgCPCCG6ARgM4H4i6g5gKoBlQogcAMukbd2cr67H9kZWNFIO4xw65dvwhnIGSM9nfsS56jqUn612uom6XDFmXldvH3PXkvfrKc39m6WKPkdOaw9jyFP2io6fx2uL97pNfqUkhMCZKufpfv5q3zwBNw1sh+T4GHRMV88aeeSrbSgssxfR6PLkIp/fZ+K/16i22wZwXvmY137Cmao6rNxb7vlgxsKQz7llhBClAEqlx2eJaDeANgAmAbhUOmwWgJUAHverlW74koxr1KsrbY//tawAbVKbYNqVXRtVCHjpbnvQrq5rQM9nfkR6UpxTMQ7AWoKtf/s01DUIr28u/vOGPig/V43pC/fgVGUNhBAYOt31MMbv/rcOa/dbP1hmLC9ErNmEPc+Nc5u0anbeITwuzWRZ9egopxuCj329DbPzSjSfe3j2VpfnlWeRAMCInHQcOK7OYT/mNfWMmoYG0ejkWmVn1DduR+Sk+70adMtTY9HvuSV+nYOxcBGQMXciygbQD8B6AC2kwC9/AIRVAca5m0tUK1rnby/FzFUH8LpiuMMTrQDuuH+C4ubbb2euwwfS+L5ymKZ/u1TN8+Q9OQbXD8jCmG7WlY4PfLYFHaYtsD2f2z4NRdMnoGj6BNs55MAuq6lvwDdbDrv9PWausi/Z36hR3GJ2nnUIZeQ/VmDDwZPInjofx85UIf9wBeZu1j53rNmEdEWd0HtGdnTbBgA4qTEV1JOvN5fYHq+dehnenZLr5mjv8PALMxK/gzsRJQGYA+D/hBCua5s5v+5eIsojorzycv+/+rpbKv72yv3Injof932yCQ/P1q7AM2N5oVfDGc/9sAu5zy/1eNzkgW0xUlFa7cUFewAAQzraV7p9dNcg1WvuGdEBXVsm24JjWoJzTzQx1oxP7ra/bu4fh7lsw6Nfb8POIxVYlH8Upxym9QkhVFWhKmvrsSi/FJt+PYVF+aUY5vAt4YX5uwAAU+dsdxoOWf2YdX73Y+O6YMvTY1XPZaUlYFLf1i7bCADvr2ncje0vNhRjn1QfdUROOlqnNgnYPOSLs9W3iPY+Py4g52Us2PxK+UtEMbAG9k+FEHOl3ceIqJUQopSIWgHQnKgthJgJYCYA5Obm+rzE9LFxXfDKor2ormuwrVh19PIia2BdmH/Utq/ghSvxwGeb8aOiOtIdH27ErDsHInvqfABA0fQJTud6TxGIHhpzETpnJuH+zzbb9i19eCTKzlZjaKd0DGif5rTA5rlretoeJ8XZL//063ph8sB2qmObK3rAsp8eG+Xy95Tfv6q2ARP/vQYNApgwwx6Ilb/Pyn3qD9Snvs13eU4AtoyLKzTGoNs2S9C8VrJnruqBMxdqVa+d0KsVru7bGr//eBPeWrkfj43r6vb9ZacrazB1rn1RVCB67EppDmluI3HxCmOAf7NlCMB7AHYLIV5TPDUPwBTp8RQA3/nePO95U3lH9sW9gxFjNuGdW3NRNH0CWkrZAn/aV44Zywpsx3WcNl/1Osfe78iL0lWrY+8f1QmdM5MxtFM6ACAh1vmzMyPZOWADcArsrqRrBPxtT19ue9w5Mxk92zTVfK1yZopy+qU7ngo2XOdmNaisWWIsPrhjILY/eznuGt4BB18aj//c3F9VPGPQi56/DQHOvfxAB19lCl+ta81YpPBnWGYYgFsBXEZEW6U/4wFMBzCWiAoAjJW2dfPpumIAwNsrC3H7BxtsvW5ZTV2DqsjCl/cOxuCO6iRA6/462vZYOdWwQaiHe/6lCPwA0K+d9Sv8wgdHoE9WU/zlcs+FGVIc8n/L4+qu7Hv+Srzx277Y9/yVLnvHTRNibGPwspUOyawA7ZkproJzx/REfHbPIFUOHKVurVIAAP3aez/TNSU+Bk9N7G67cU1E+L8x1oVGx85U483lBR6npirvWejhKmkV6sxbB2DpwyN1fS/G9ORzcBdCrBFCkBCitxCir/RngRDihBBitBAiR/rpvgy9n+R541W1Dappa/d8lIf520uxseikqshCJymPiLe6PrUIm6Qpih+uLbLt//LewbbH3Vql4LsHhmvOtnn0CnXAdzzmv7f0x57nXI/rxlpMuKZfG8RaGvdXlZ2eiHtGdHDaX1h2FscUM01e+21fzdcv/8ulGNopHWYT4XeDrN8q5GRbM28dgHkPDMPih0biVj+LUSgXQr26eB+6Pb3Ilgju0MlKp576WcU01r9P6uHXe2sZ1SUTRdMn4PIeLbkSEYtoEV9mL04KesqFTLM3HsKSXcewRJGZcFjn5ujXNk1zKbyWb+8fhmv+Y10pev3bazH790Nsz62bNhotm3pX+OH+UZ3xDynvihaL2QS9hnWfmNAdj17RFXUNDbaxf+U0xIEdrKlwi6ZPQPnZaqQnxaLoRKXtmspevLYXXrzWmhXvzuH2D4yLWriubOStJyd0U31oAsBnG4px6+D2GPGKtQzexN6tkOlQaGNUlwxc199zcWrGolXEpx/429XW3psy2D42Z7vTca/f2Bd/uaKL13PZ+zrk4r7xnV9sj70N7DJ5paYePU1PYi0mzbF/AKphpIzkOBAROqQnonVqk2A1DxazyZaQS/bUt/l4acFu2/YSacGYnKgszmLCB3cMVN2QZoypRfz/Drn36dj7c+Tp5tjn9wxGUpwF7dMTnEqnKSXHN/6StU5t4nY2STCMyEnHakU9UADo2sr/nncgzLipH+ZtU+dOf0cxB/+Jb/Jx86D2mPL+BgDA84oZR4wxbRHfc7d4UT7twIvjPa6AHNKpOXplNUVKfIxtquHCB0fgifHdVMd5u7Q/3Pzzhj5O+5IjqOf74oLdtpu7V/VxP2+eMWaAnrs7j4y9CG3SmjR6abusW6sUdGuVguKTlfh4nTVT4CNezIgJR5kp8ch7cgwsJkL52WrkBGC8PJB+P7KjqrfuSLma1t08f8aYVcT33N350+icgNx0u0RaaTqmWwvcMSzb7/OFSnpSHFITYsMusAPAtPHdNCsZfXe/6xW4jDHXDBHcR+Sk63r+0d0ysfyRS/DulNxGJRdjjdOueQJ+f4k9F03R9AnoaPBi4ozpxRDBfeat9iXo43q0DPj5iQgdMxo3P5755tHLu+DKni1tq24dZ8T8+bLOoWgWYxHHEGPu8VI5NIuJ8MK1PbFo51G8e1tgc46w4LCYTXj7lgG2beU3pb3Pj+NcL4x5iYRG/c5gy83NFXl5rqv6eOPd1QcwPCcdXVumBKhVjDEW3ohokxBCsydriJ47ANw9wnPecMYYixaGGHNnjDGmxsGdMcYMiIM7Y4wZEAd3xhgzIA7ujDFmQBzcGWPMgDi4M8aYAXFwZ4wxAwqLFapEVA7gVz9OkQ7guMejGF8n7/B18g5fJ+/oeZ3aCyEytJ4Ii+DuLyLKc7UEl9nxdfIOXyfv8HXyTqiuEw/LMMaYAXFwZ4wxAzJKcJ8Z6gZECL5O3uHr5B2+Tt4JyXUyxJg7Y4wxNaP03BljjClwcGeMMQOK6OBOROOIaC8RFRLR1FC3J9iIqC0RrSCi3US0k4gelPY3I6IlRFQg/UxTvGaadL32EtEViv0DiGiH9NwMMlglcCIyE9EWIvpB2uZrpIGIUonoayLaI/27GsLXyhkRPST9n8snos+JKD7srpMQIiL/ADAD2A+gI4BYANsAdA91u4J8DVoB6C89TgawD0B3AK8AmCrtnwrgZelxd+k6xQHoIF0/s/TcBgBDABCAhQCuDPXvF+Br9TCAzwD8IG3zNdK+TrMA3C09jgWQytfK6Rq1AXAQQBNpezaA28PtOkVyz30ggEIhxAEhRA2ALwBMCnGbgkoIUSqE2Cw9PgtgN6z/8CbB+p8U0s9rpMeTAHwhhKgWQhwEUAhgIBG1ApAihPhFWP/FfaR4TcQjoiwAEwC8q9jN18gBEaUAGAngPQAQQtQIIU6Dr5UWC4AmRGQBkADgCMLsOkVycG8D4JBiu0TaF5WIKBtAPwDrAbQQQpQC1g8AAJnSYa6uWRvpseN+o3gDwGMAGhT7+Bo56wigHMAH0hDWu0SUCL5WKkKIwwBeBVAMoBRAhRBiMcLsOkVycNcam4rKeZ1ElARgDoD/E0KccXeoxj7hZn/EI6KJAMqEEJu8fYnGPkNfIwULgP4A3hZC9ANwHtbhBVei8lpJY+mTYB1iaQ0gkYhucfcSjX26X6dIDu4lANoqtrNg/WoUVYgoBtbA/qkQYq60+5j0lQ/SzzJpv6trViI9dtxvBMMAXE1ERbAO3V1GRJ+Ar5GWEgAlQoj10vbXsAZ7vlZqYwAcFEKUCyFqAcwFMBRhdp0iObhvBJBDRB2IKBbAZADzQtymoJLurL8HYLcQ4jXFU/MATJEeTwHwnWL/ZCKKI6IOAHIAbJC+Qp4losHSOW9TvCaiCSGmCSGyhBDZsP4bWS6EuAV8jZwIIY4COEREXaRdowHsAl8rR8UABhNRgvT7jYb1fld4XadQ33n28671eFhniOwH8ESo2xOC3384rF/jtgPYKv0ZD6A5gGUACqSfzRSveUK6XnuhuDMPIBdAvvTcm5BWLxvpD4BLYZ8tw9dI+xr1BZAn/Zv6FkAaXyvN6/Q3AHuk3/FjWGfChNV14vQDjDFmQJE8LMMYY8wFDu6MMWZAHNwZY8yAOLgzxpgBcXBnjDED4uDOGGMGxMGdMcYM6P8Bnq2OZwW+c2MAAAAASUVORK5CYII=\n",
      "text/plain": [
       "<Figure size 432x288 with 1 Axes>"
      ]
     },
     "metadata": {
      "needs_background": "light"
     },
     "output_type": "display_data"
    }
   ],
   "source": [
    "plt.plot(data_oil)"
   ]
  },
  {
   "cell_type": "code",
   "execution_count": 19,
   "metadata": {},
   "outputs": [],
   "source": [
    "closing_values = np.reshape(data['Closing Value'].values,(-1,1))"
   ]
  },
  {
   "cell_type": "markdown",
   "metadata": {},
   "source": [
    "### splitting dataset into train and test split"
   ]
  },
  {
   "cell_type": "code",
   "execution_count": 20,
   "metadata": {
    "scrolled": true
   },
   "outputs": [
    {
     "data": {
      "text/plain": [
       "array([[25.56],\n",
       "       [26.  ],\n",
       "       [26.53],\n",
       "       ...,\n",
       "       [73.05],\n",
       "       [73.78],\n",
       "       [73.93]])"
      ]
     },
     "execution_count": 20,
     "metadata": {},
     "output_type": "execute_result"
    }
   ],
   "source": [
    "closing_values"
   ]
  },
  {
   "cell_type": "code",
   "execution_count": 22,
   "metadata": {},
   "outputs": [
    {
     "ename": "IndentationError",
     "evalue": "unindent does not match any outer indentation level (<tokenize>, line 9)",
     "output_type": "error",
     "traceback": [
      "\u001b[1;36m  File \u001b[1;32m<tokenize>:9\u001b[1;36m\u001b[0m\n\u001b[1;33m    1,2          3\u001b[0m\n\u001b[1;37m    ^\u001b[0m\n\u001b[1;31mIndentationError\u001b[0m\u001b[1;31m:\u001b[0m unindent does not match any outer indentation level\n"
     ]
    }
   ],
   "source": [
    "1,2,3,4,5,6,7,8,9,10\n",
    "\n",
    "train = 60% (6 values)\n",
    "test = 40% (last 4 values)\n",
    "\n",
    "t_s = 2\n",
    "\n",
    "   x           y\n",
    "  1,2          3\n",
    "  3,4          5\n",
    "  5,6          7\n",
    "  7,8          9\n",
    "  9,10         ?\n"
   ]
  },
  {
   "cell_type": "code",
   "execution_count": 23,
   "metadata": {},
   "outputs": [],
   "source": [
    "training_size=int(len(closing_values)*0.65)\n",
    "test_size=len(closing_values)-training_size\n",
    "train_data,test_data=closing_values[:training_size],closing_values[training_size:]"
   ]
  },
  {
   "cell_type": "code",
   "execution_count": 24,
   "metadata": {},
   "outputs": [
    {
     "data": {
      "text/plain": [
       "(5344, 2879)"
      ]
     },
     "execution_count": 24,
     "metadata": {},
     "output_type": "execute_result"
    }
   ],
   "source": [
    "training_size,test_size"
   ]
  },
  {
   "cell_type": "code",
   "execution_count": 25,
   "metadata": {},
   "outputs": [],
   "source": [
    "# convert an array of values into a dataset matrix\n",
    "def create_dataset(dataset, time_step=1):\n",
    "\tdataX, dataY = [], []\n",
    "\tfor i in range(len(dataset)-time_step-1):\n",
    "\t\ta = dataset[i:(i+time_step), 0]   ###i=0, 0,1,2,3-----99   100 \n",
    "\t\tdataX.append(a)\n",
    "\t\tdataY.append(dataset[i + time_step, 0])\n",
    "\treturn np.array(dataX), np.array(dataY)"
   ]
  },
  {
   "cell_type": "code",
   "execution_count": 26,
   "metadata": {},
   "outputs": [],
   "source": [
    "# reshape into X=t,t+1,t+2,t+3 and Y=t+4\n",
    "time_step = 10\n",
    "X_train, y_train = create_dataset(train_data, time_step)\n",
    "X_test, ytest = create_dataset(test_data, time_step)"
   ]
  },
  {
   "cell_type": "code",
   "execution_count": 27,
   "metadata": {},
   "outputs": [
    {
     "data": {
      "text/plain": [
       "((5333, 10), (5333,))"
      ]
     },
     "execution_count": 27,
     "metadata": {},
     "output_type": "execute_result"
    }
   ],
   "source": [
    "X_train.shape,y_train.shape"
   ]
  },
  {
   "cell_type": "code",
   "execution_count": 28,
   "metadata": {},
   "outputs": [
    {
     "data": {
      "text/plain": [
       "((2868, 10), (2868,))"
      ]
     },
     "execution_count": 28,
     "metadata": {},
     "output_type": "execute_result"
    }
   ],
   "source": [
    "X_test.shape, ytest.shape"
   ]
  },
  {
   "cell_type": "code",
   "execution_count": 29,
   "metadata": {},
   "outputs": [
    {
     "data": {
      "text/plain": [
       "array([[25.56, 26.  , 26.53, ..., 25.08, 24.97, 25.18],\n",
       "       [26.  , 26.53, 25.85, ..., 24.97, 25.18, 23.98],\n",
       "       [26.53, 25.85, 25.87, ..., 25.18, 23.98, 23.63],\n",
       "       ...,\n",
       "       [57.92, 59.38, 58.32, ..., 61.46, 61.78, 61.97],\n",
       "       [59.38, 58.32, 59.4 , ..., 61.78, 61.97, 61.58],\n",
       "       [58.32, 59.4 , 60.28, ..., 61.97, 61.58, 60.05]])"
      ]
     },
     "execution_count": 29,
     "metadata": {},
     "output_type": "execute_result"
    }
   ],
   "source": [
    "X_train"
   ]
  },
  {
   "cell_type": "code",
   "execution_count": 30,
   "metadata": {},
   "outputs": [
    {
     "data": {
      "text/plain": [
       "array([23.98, 23.63, 21.33, ..., 61.58, 60.05, 60.66])"
      ]
     },
     "execution_count": 30,
     "metadata": {},
     "output_type": "execute_result"
    }
   ],
   "source": [
    "y_train"
   ]
  },
  {
   "cell_type": "code",
   "execution_count": 31,
   "metadata": {},
   "outputs": [],
   "source": [
    "# reshape input to be [samples, time steps, features] which is required for LSTM\n",
    "X_train =X_train.reshape(X_train.shape[0],X_train.shape[1] , 1)\n",
    "X_test = X_test.reshape(X_test.shape[0],X_test.shape[1] , 1)"
   ]
  },
  {
   "cell_type": "markdown",
   "metadata": {},
   "source": [
    "## Create the Stacked LSTM model"
   ]
  },
  {
   "cell_type": "code",
   "execution_count": 32,
   "metadata": {},
   "outputs": [],
   "source": [
    "#tensorflow :open source used for both ML and DL for computation\n",
    "from tensorflow.keras.models import Sequential#it is a plain stack of layers\n",
    "from tensorflow.keras.layers import Dense#Dense layer is the regular deeply connected neural network layer\n",
    "from tensorflow.keras.layers import LSTM #Long Short Trem Memory"
   ]
  },
  {
   "cell_type": "code",
   "execution_count": 33,
   "metadata": {},
   "outputs": [],
   "source": [
    "model=Sequential()\n",
    "model.add(LSTM(50,return_sequences=True,input_shape=(10,1)))\n",
    "model.add(LSTM(50,return_sequences=True))\n",
    "model.add(LSTM(50))\n",
    "model.add(Dense(1))\n",
    "model.compile(loss='mean_squared_error',optimizer='adam')"
   ]
  },
  {
   "cell_type": "code",
   "execution_count": 34,
   "metadata": {},
   "outputs": [
    {
     "name": "stdout",
     "output_type": "stream",
     "text": [
      "Model: \"sequential\"\n",
      "_________________________________________________________________\n",
      " Layer (type)                Output Shape              Param #   \n",
      "=================================================================\n",
      " lstm (LSTM)                 (None, 10, 50)            10400     \n",
      "                                                                 \n",
      " lstm_1 (LSTM)               (None, 10, 50)            20200     \n",
      "                                                                 \n",
      " lstm_2 (LSTM)               (None, 50)                20200     \n",
      "                                                                 \n",
      " dense (Dense)               (None, 1)                 51        \n",
      "                                                                 \n",
      "=================================================================\n",
      "Total params: 50,851\n",
      "Trainable params: 50,851\n",
      "Non-trainable params: 0\n",
      "_________________________________________________________________\n"
     ]
    }
   ],
   "source": [
    "model.summary()"
   ]
  },
  {
   "cell_type": "code",
   "execution_count": 35,
   "metadata": {},
   "outputs": [
    {
     "name": "stdout",
     "output_type": "stream",
     "text": [
      "Epoch 1/50\n",
      "667/667 [==============================] - 23s 22ms/step - loss: 271.4866 - val_loss: 3113.3665\n",
      "Epoch 2/50\n",
      "667/667 [==============================] - 13s 19ms/step - loss: 188.9138 - val_loss: 3042.5217\n",
      "Epoch 3/50\n",
      "667/667 [==============================] - 14s 21ms/step - loss: 116.0803 - val_loss: 1836.9608\n",
      "Epoch 4/50\n",
      "667/667 [==============================] - 15s 23ms/step - loss: 30.4426 - val_loss: 1143.8248\n",
      "Epoch 5/50\n",
      "667/667 [==============================] - 13s 19ms/step - loss: 9.7585 - val_loss: 820.5656\n",
      "Epoch 6/50\n",
      "667/667 [==============================] - 12s 18ms/step - loss: 4.0311 - val_loss: 655.6384\n",
      "Epoch 7/50\n",
      "667/667 [==============================] - 12s 19ms/step - loss: 2.1566 - val_loss: 546.5502\n",
      "Epoch 8/50\n",
      "667/667 [==============================] - 15s 22ms/step - loss: 1.4139 - val_loss: 472.9877\n",
      "Epoch 9/50\n",
      "667/667 [==============================] - 12s 17ms/step - loss: 1.0555 - val_loss: 421.1568\n",
      "Epoch 10/50\n",
      "667/667 [==============================] - 11s 17ms/step - loss: 0.8555 - val_loss: 388.0788\n",
      "Epoch 11/50\n",
      "667/667 [==============================] - 12s 18ms/step - loss: 0.8195 - val_loss: 369.6892\n",
      "Epoch 12/50\n",
      "667/667 [==============================] - 12s 18ms/step - loss: 0.7379 - val_loss: 350.5486\n",
      "Epoch 13/50\n",
      "667/667 [==============================] - 14s 21ms/step - loss: 0.7294 - val_loss: 332.3751\n",
      "Epoch 14/50\n",
      "667/667 [==============================] - 12s 18ms/step - loss: 0.7645 - val_loss: 323.1273\n",
      "Epoch 15/50\n",
      "667/667 [==============================] - 12s 18ms/step - loss: 0.7003 - val_loss: 314.7383\n",
      "Epoch 16/50\n",
      "667/667 [==============================] - 17s 25ms/step - loss: 0.7412 - val_loss: 314.2759\n",
      "Epoch 17/50\n",
      "667/667 [==============================] - 18s 27ms/step - loss: 0.7167 - val_loss: 305.1415\n",
      "Epoch 18/50\n",
      "667/667 [==============================] - 17s 26ms/step - loss: 0.7782 - val_loss: 309.3623\n",
      "Epoch 19/50\n",
      "667/667 [==============================] - 18s 27ms/step - loss: 0.7172 - val_loss: 301.2591\n",
      "Epoch 20/50\n",
      "667/667 [==============================] - 13s 20ms/step - loss: 0.7404 - val_loss: 293.1790\n",
      "Epoch 21/50\n",
      "667/667 [==============================] - 13s 20ms/step - loss: 0.7132 - val_loss: 289.5776\n",
      "Epoch 22/50\n",
      "667/667 [==============================] - 13s 20ms/step - loss: 0.7205 - val_loss: 284.6305\n",
      "Epoch 23/50\n",
      "667/667 [==============================] - 14s 21ms/step - loss: 0.7081 - val_loss: 288.5466\n",
      "Epoch 24/50\n",
      "667/667 [==============================] - 12s 19ms/step - loss: 0.7251 - val_loss: 284.8292\n",
      "Epoch 25/50\n",
      "667/667 [==============================] - 14s 21ms/step - loss: 0.6458 - val_loss: 292.7879\n",
      "Epoch 26/50\n",
      "667/667 [==============================] - 13s 19ms/step - loss: 0.7280 - val_loss: 283.4973\n",
      "Epoch 27/50\n",
      "667/667 [==============================] - 12s 19ms/step - loss: 0.7220 - val_loss: 302.1166\n",
      "Epoch 28/50\n",
      "667/667 [==============================] - 15s 23ms/step - loss: 0.6553 - val_loss: 292.5915\n",
      "Epoch 29/50\n",
      "667/667 [==============================] - 13s 19ms/step - loss: 0.6922 - val_loss: 322.7795\n",
      "Epoch 30/50\n",
      "667/667 [==============================] - 14s 22ms/step - loss: 0.6945 - val_loss: 291.8911\n",
      "Epoch 31/50\n",
      "667/667 [==============================] - 12s 18ms/step - loss: 0.6778 - val_loss: 278.7662\n",
      "Epoch 32/50\n",
      "667/667 [==============================] - 13s 19ms/step - loss: 0.6778 - val_loss: 285.2063\n",
      "Epoch 33/50\n",
      "667/667 [==============================] - 12s 18ms/step - loss: 0.6930 - val_loss: 284.3013\n",
      "Epoch 34/50\n",
      "667/667 [==============================] - 13s 20ms/step - loss: 0.6696 - val_loss: 278.0075\n",
      "Epoch 35/50\n",
      "667/667 [==============================] - 13s 20ms/step - loss: 0.7273 - val_loss: 274.4219\n",
      "Epoch 36/50\n",
      "667/667 [==============================] - 14s 20ms/step - loss: 0.7190 - val_loss: 298.8551\n",
      "Epoch 37/50\n",
      "667/667 [==============================] - 13s 20ms/step - loss: 0.6857 - val_loss: 263.9316\n",
      "Epoch 38/50\n",
      "667/667 [==============================] - 14s 21ms/step - loss: 0.6711 - val_loss: 275.1166\n",
      "Epoch 39/50\n",
      "667/667 [==============================] - 14s 21ms/step - loss: 0.7726 - val_loss: 289.1027\n",
      "Epoch 40/50\n",
      "667/667 [==============================] - 13s 20ms/step - loss: 0.7443 - val_loss: 260.4140\n",
      "Epoch 41/50\n",
      "667/667 [==============================] - 13s 19ms/step - loss: 0.6604 - val_loss: 250.3240\n",
      "Epoch 42/50\n",
      "667/667 [==============================] - 13s 20ms/step - loss: 0.6719 - val_loss: 242.6603\n",
      "Epoch 43/50\n",
      "667/667 [==============================] - 14s 21ms/step - loss: 0.6317 - val_loss: 261.7324\n",
      "Epoch 44/50\n",
      "667/667 [==============================] - 13s 19ms/step - loss: 0.6611 - val_loss: 256.2289\n",
      "Epoch 45/50\n",
      "667/667 [==============================] - 13s 20ms/step - loss: 0.6839 - val_loss: 260.6997\n",
      "Epoch 46/50\n",
      "667/667 [==============================] - 12s 18ms/step - loss: 0.6874 - val_loss: 264.8378\n",
      "Epoch 47/50\n",
      "667/667 [==============================] - 12s 18ms/step - loss: 0.6723 - val_loss: 268.4760\n",
      "Epoch 48/50\n",
      "667/667 [==============================] - 14s 21ms/step - loss: 0.6523 - val_loss: 272.3879\n",
      "Epoch 49/50\n",
      "667/667 [==============================] - 13s 19ms/step - loss: 0.6956 - val_loss: 274.1993\n",
      "Epoch 50/50\n",
      "667/667 [==============================] - 12s 18ms/step - loss: 0.6591 - val_loss: 284.8275\n"
     ]
    },
    {
     "data": {
      "text/plain": [
       "<keras.callbacks.History at 0x1cd7afba8e0>"
      ]
     },
     "execution_count": 35,
     "metadata": {},
     "output_type": "execute_result"
    }
   ],
   "source": [
    "#Training the model\n",
    "model.fit(X_train,y_train,validation_data=(X_test,ytest),epochs=50,batch_size=8)"
   ]
  },
  {
   "cell_type": "code",
   "execution_count": 36,
   "metadata": {},
   "outputs": [
    {
     "name": "stdout",
     "output_type": "stream",
     "text": [
      "167/167 [==============================] - 3s 7ms/step\n",
      "90/90 [==============================] - 1s 7ms/step\n"
     ]
    }
   ],
   "source": [
    "## Lets Do the prediction and check performance metrics\n",
    "train_predict=model.predict(X_train)\n",
    "test_predict=model.predict(X_test)"
   ]
  },
  {
   "cell_type": "code",
   "execution_count": 37,
   "metadata": {},
   "outputs": [
    {
     "name": "stdout",
     "output_type": "stream",
     "text": [
      "1/1 [==============================] - 2s 2s/step\n"
     ]
    }
   ],
   "source": [
    "a1 = model.predict([[46,47,48,50,51,52,54,43,44,47]])"
   ]
  },
  {
   "cell_type": "code",
   "execution_count": 38,
   "metadata": {},
   "outputs": [
    {
     "data": {
      "text/plain": [
       "45.59"
      ]
     },
     "execution_count": 38,
     "metadata": {},
     "output_type": "execute_result"
    }
   ],
   "source": [
    "np.round(a1[0][0],2)"
   ]
  },
  {
   "cell_type": "code",
   "execution_count": 39,
   "metadata": {},
   "outputs": [],
   "source": [
    "#model.predict([[46,47,48.45,50.89,51,52,54,43,44,47]])"
   ]
  },
  {
   "cell_type": "markdown",
   "metadata": {},
   "source": [
    "### model evaluation"
   ]
  },
  {
   "cell_type": "code",
   "execution_count": 40,
   "metadata": {},
   "outputs": [
    {
     "data": {
      "text/plain": [
       "0.8291012279834635"
      ]
     },
     "execution_count": 40,
     "metadata": {},
     "output_type": "execute_result"
    }
   ],
   "source": [
    "### Calculate RMSE performance metrics\n",
    "import math\n",
    "from sklearn.metrics import mean_squared_error\n",
    "math.sqrt(mean_squared_error(y_train,train_predict))"
   ]
  },
  {
   "cell_type": "code",
   "execution_count": 41,
   "metadata": {},
   "outputs": [
    {
     "data": {
      "text/plain": [
       "16.876834839160942"
      ]
     },
     "execution_count": 41,
     "metadata": {},
     "output_type": "execute_result"
    }
   ],
   "source": [
    "### Test Data RMSE\n",
    "math.sqrt(mean_squared_error(ytest,test_predict))"
   ]
  },
  {
   "cell_type": "code",
   "execution_count": 42,
   "metadata": {},
   "outputs": [],
   "source": [
    "model.save(\"crude_oil.h5\")"
   ]
  },
  {
   "cell_type": "code",
   "execution_count": null,
   "metadata": {},
   "outputs": [],
   "source": []
  }
 ],
 "metadata": {
  "kernelspec": {
   "display_name": "Python 3 (ipykernel)",
   "language": "python",
   "name": "python3"
  },
  "language_info": {
   "codemirror_mode": {
    "name": "ipython",
    "version": 3
   },
   "file_extension": ".py",
   "mimetype": "text/x-python",
   "name": "python",
   "nbconvert_exporter": "python",
   "pygments_lexer": "ipython3",
   "version": "3.9.12"
  }
 },
 "nbformat": 4,
 "nbformat_minor": 4
}
