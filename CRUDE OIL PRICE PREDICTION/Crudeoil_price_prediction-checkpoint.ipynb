{
 "cells": [
  {
   "cell_type": "markdown",
   "metadata": {},
   "source": [
    "# Crude oil price prediction using LSTM"
   ]
  },
  {
   "cell_type": "raw",
   "metadata": {},
   "source": [
    "1.we will collect the data\n",
    "2.preprocess the data\n",
    "3.create an LSTM model\n",
    "4.predict the test data and plot the output\n",
    "5.predict the future 30 days and plot the output"
   ]
  },
  {
   "cell_type": "raw",
   "metadata": {},
   "source": [
    "Dataset link https://www.kaggle.com/rockbottom73/crude-oil-prices"
   ]
  },
  {
   "cell_type": "markdown",
   "metadata": {},
   "source": [
    "### importing necessary libraries"
   ]
  },
  {
   "cell_type": "code",
   "execution_count": 1,
   "metadata": {},
   "outputs": [],
   "source": [
    "import pandas as pd\n",
    "import numpy as np\n",
    "import matplotlib.pyplot as plt\n",
    "import tensorflow.keras\n",
    "import pickle"
   ]
  },
  {
   "cell_type": "markdown",
   "metadata": {},
   "source": [
    "# Importing dataset\n",
    "1.Since data is in form of excel file we have to use pandas read_excel to load the data\n",
    "2.After loading it is important to check the complete information of data as it can indication many of the hidden infomation such as null values in a column or a row\n",
    "3.Check whether any null values are there or not. if it is present then following can be done, a.Imputing data using Imputation method in sklearn b.Filling NaN values with mean, median and mode using fillna() method\n",
    "4.Describe data --> which can give statistical analysis"
   ]
  },
  {
   "cell_type": "code",
   "execution_count": 2,
   "metadata": {},
   "outputs": [],
   "source": [
    "data=pd.read_excel(r\"C:\\Users\\RAHUL\\OneDrive\\Desktop\\CRUDE OIL PRICE PREDICTION\\dataset\\Crude Oil Prices Daily.xlsx\")"
   ]
  },
  {
   "cell_type": "code",
   "execution_count": 3,
   "metadata": {},
   "outputs": [
    {
     "data": {
      "text/html": [
       "<div>\n",
       "<style scoped>\n",
       "    .dataframe tbody tr th:only-of-type {\n",
       "        vertical-align: middle;\n",
       "    }\n",
       "\n",
       "    .dataframe tbody tr th {\n",
       "        vertical-align: top;\n",
       "    }\n",
       "\n",
       "    .dataframe thead th {\n",
       "        text-align: right;\n",
       "    }\n",
       "</style>\n",
       "<table border=\"1\" class=\"dataframe\">\n",
       "  <thead>\n",
       "    <tr style=\"text-align: right;\">\n",
       "      <th></th>\n",
       "      <th>Date</th>\n",
       "      <th>Closing Value</th>\n",
       "    </tr>\n",
       "  </thead>\n",
       "  <tbody>\n",
       "    <tr>\n",
       "      <th>0</th>\n",
       "      <td>1986-01-02</td>\n",
       "      <td>25.56</td>\n",
       "    </tr>\n",
       "    <tr>\n",
       "      <th>1</th>\n",
       "      <td>1986-01-03</td>\n",
       "      <td>26.00</td>\n",
       "    </tr>\n",
       "    <tr>\n",
       "      <th>2</th>\n",
       "      <td>1986-01-06</td>\n",
       "      <td>26.53</td>\n",
       "    </tr>\n",
       "    <tr>\n",
       "      <th>3</th>\n",
       "      <td>1986-01-07</td>\n",
       "      <td>25.85</td>\n",
       "    </tr>\n",
       "    <tr>\n",
       "      <th>4</th>\n",
       "      <td>1986-01-08</td>\n",
       "      <td>25.87</td>\n",
       "    </tr>\n",
       "  </tbody>\n",
       "</table>\n",
       "</div>"
      ],
      "text/plain": [
       "        Date  Closing Value\n",
       "0 1986-01-02          25.56\n",
       "1 1986-01-03          26.00\n",
       "2 1986-01-06          26.53\n",
       "3 1986-01-07          25.85\n",
       "4 1986-01-08          25.87"
      ]
     },
     "execution_count": 3,
     "metadata": {},
     "output_type": "execute_result"
    }
   ],
   "source": [
    "data.head()"
   ]
  },
  {
   "cell_type": "code",
   "execution_count": 4,
   "metadata": {},
   "outputs": [
    {
     "data": {
      "text/html": [
       "<div>\n",
       "<style scoped>\n",
       "    .dataframe tbody tr th:only-of-type {\n",
       "        vertical-align: middle;\n",
       "    }\n",
       "\n",
       "    .dataframe tbody tr th {\n",
       "        vertical-align: top;\n",
       "    }\n",
       "\n",
       "    .dataframe thead th {\n",
       "        text-align: right;\n",
       "    }\n",
       "</style>\n",
       "<table border=\"1\" class=\"dataframe\">\n",
       "  <thead>\n",
       "    <tr style=\"text-align: right;\">\n",
       "      <th></th>\n",
       "      <th>Date</th>\n",
       "      <th>Closing Value</th>\n",
       "    </tr>\n",
       "  </thead>\n",
       "  <tbody>\n",
       "    <tr>\n",
       "      <th>8218</th>\n",
       "      <td>2018-07-03</td>\n",
       "      <td>74.19</td>\n",
       "    </tr>\n",
       "    <tr>\n",
       "      <th>8219</th>\n",
       "      <td>2018-07-04</td>\n",
       "      <td>NaN</td>\n",
       "    </tr>\n",
       "    <tr>\n",
       "      <th>8220</th>\n",
       "      <td>2018-07-05</td>\n",
       "      <td>73.05</td>\n",
       "    </tr>\n",
       "    <tr>\n",
       "      <th>8221</th>\n",
       "      <td>2018-07-06</td>\n",
       "      <td>73.78</td>\n",
       "    </tr>\n",
       "    <tr>\n",
       "      <th>8222</th>\n",
       "      <td>2018-07-09</td>\n",
       "      <td>73.93</td>\n",
       "    </tr>\n",
       "  </tbody>\n",
       "</table>\n",
       "</div>"
      ],
      "text/plain": [
       "           Date  Closing Value\n",
       "8218 2018-07-03          74.19\n",
       "8219 2018-07-04            NaN\n",
       "8220 2018-07-05          73.05\n",
       "8221 2018-07-06          73.78\n",
       "8222 2018-07-09          73.93"
      ]
     },
     "execution_count": 4,
     "metadata": {},
     "output_type": "execute_result"
    }
   ],
   "source": [
    "data.tail()"
   ]
  },
  {
   "cell_type": "code",
   "execution_count": 5,
   "metadata": {},
   "outputs": [
    {
     "data": {
      "text/html": [
       "<div>\n",
       "<style scoped>\n",
       "    .dataframe tbody tr th:only-of-type {\n",
       "        vertical-align: middle;\n",
       "    }\n",
       "\n",
       "    .dataframe tbody tr th {\n",
       "        vertical-align: top;\n",
       "    }\n",
       "\n",
       "    .dataframe thead th {\n",
       "        text-align: right;\n",
       "    }\n",
       "</style>\n",
       "<table border=\"1\" class=\"dataframe\">\n",
       "  <thead>\n",
       "    <tr style=\"text-align: right;\">\n",
       "      <th></th>\n",
       "      <th>Closing Value</th>\n",
       "    </tr>\n",
       "  </thead>\n",
       "  <tbody>\n",
       "    <tr>\n",
       "      <th>count</th>\n",
       "      <td>8216.000000</td>\n",
       "    </tr>\n",
       "    <tr>\n",
       "      <th>mean</th>\n",
       "      <td>43.492139</td>\n",
       "    </tr>\n",
       "    <tr>\n",
       "      <th>std</th>\n",
       "      <td>29.616804</td>\n",
       "    </tr>\n",
       "    <tr>\n",
       "      <th>min</th>\n",
       "      <td>10.250000</td>\n",
       "    </tr>\n",
       "    <tr>\n",
       "      <th>25%</th>\n",
       "      <td>19.577500</td>\n",
       "    </tr>\n",
       "    <tr>\n",
       "      <th>50%</th>\n",
       "      <td>29.610000</td>\n",
       "    </tr>\n",
       "    <tr>\n",
       "      <th>75%</th>\n",
       "      <td>63.402500</td>\n",
       "    </tr>\n",
       "    <tr>\n",
       "      <th>max</th>\n",
       "      <td>145.310000</td>\n",
       "    </tr>\n",
       "  </tbody>\n",
       "</table>\n",
       "</div>"
      ],
      "text/plain": [
       "       Closing Value\n",
       "count    8216.000000\n",
       "mean       43.492139\n",
       "std        29.616804\n",
       "min        10.250000\n",
       "25%        19.577500\n",
       "50%        29.610000\n",
       "75%        63.402500\n",
       "max       145.310000"
      ]
     },
     "execution_count": 5,
     "metadata": {},
     "output_type": "execute_result"
    }
   ],
   "source": [
    "data.describe()"
   ]
  },
  {
   "cell_type": "code",
   "execution_count": 6,
   "metadata": {},
   "outputs": [
    {
     "name": "stdout",
     "output_type": "stream",
     "text": [
      "<class 'pandas.core.frame.DataFrame'>\n",
      "RangeIndex: 8223 entries, 0 to 8222\n",
      "Data columns (total 2 columns):\n",
      " #   Column         Non-Null Count  Dtype         \n",
      "---  ------         --------------  -----         \n",
      " 0   Date           8223 non-null   datetime64[ns]\n",
      " 1   Closing Value  8216 non-null   float64       \n",
      "dtypes: datetime64[ns](1), float64(1)\n",
      "memory usage: 128.6 KB\n"
     ]
    }
   ],
   "source": [
    "data.info()"
   ]
  },
  {
   "cell_type": "markdown",
   "metadata": {},
   "source": [
    "# Data Preprocessing"
   ]
  },
  {
   "cell_type": "markdown",
   "metadata": {},
   "source": [
    "## Checking or null values"
   ]
  },
  {
   "cell_type": "code",
   "execution_count": 7,
   "metadata": {},
   "outputs": [
    {
     "data": {
      "text/plain": [
       "Date             False\n",
       "Closing Value     True\n",
       "dtype: bool"
      ]
     },
     "execution_count": 7,
     "metadata": {},
     "output_type": "execute_result"
    }
   ],
   "source": [
    "data.isnull().any()"
   ]
  },
  {
   "cell_type": "code",
   "execution_count": 8,
   "metadata": {},
   "outputs": [
    {
     "data": {
      "text/plain": [
       "Date             0\n",
       "Closing Value    7\n",
       "dtype: int64"
      ]
     },
     "execution_count": 8,
     "metadata": {},
     "output_type": "execute_result"
    }
   ],
   "source": [
    "data.isnull().sum()"
   ]
  },
  {
   "cell_type": "code",
   "execution_count": 9,
   "metadata": {},
   "outputs": [],
   "source": [
    "data.dropna(axis=0,inplace=True)"
   ]
  },
  {
   "cell_type": "code",
   "execution_count": 10,
   "metadata": {},
   "outputs": [
    {
     "data": {
      "text/plain": [
       "Date             0\n",
       "Closing Value    0\n",
       "dtype: int64"
      ]
     },
     "execution_count": 10,
     "metadata": {},
     "output_type": "execute_result"
    }
   ],
   "source": [
    "data.isnull().sum()"
   ]
  },
  {
   "cell_type": "code",
   "execution_count": 11,
   "metadata": {},
   "outputs": [
    {
     "data": {
      "text/plain": [
       "(8216, 2)"
      ]
     },
     "execution_count": 11,
     "metadata": {},
     "output_type": "execute_result"
    }
   ],
   "source": [
    "data.shape"
   ]
  },
  {
   "cell_type": "markdown",
   "metadata": {},
   "source": [
    "### Selecting Closing value column for prediction"
   ]
  },
  {
   "cell_type": "code",
   "execution_count": 12,
   "metadata": {},
   "outputs": [],
   "source": [
    "data_oil=data.reset_index()['Closing Value']"
   ]
  },
  {
   "cell_type": "code",
   "execution_count": 13,
   "metadata": {},
   "outputs": [
    {
     "data": {
      "text/plain": [
       "0       25.56\n",
       "1       26.00\n",
       "2       26.53\n",
       "3       25.85\n",
       "4       25.87\n",
       "        ...  \n",
       "8211    73.89\n",
       "8212    74.19\n",
       "8213    73.05\n",
       "8214    73.78\n",
       "8215    73.93\n",
       "Name: Closing Value, Length: 8216, dtype: float64"
      ]
     },
     "execution_count": 13,
     "metadata": {},
     "output_type": "execute_result"
    }
   ],
   "source": [
    "data_oil"
   ]
  },
  {
   "cell_type": "code",
   "execution_count": 14,
   "metadata": {},
   "outputs": [],
   "source": [
    "from sklearn.preprocessing import MinMaxScaler\n",
    "scaler=MinMaxScaler(feature_range=(0,1))\n",
    "data_oil=scaler.fit_transform(np.array(data_oil).reshape(-1,1))"
   ]
  },
  {
   "cell_type": "code",
   "execution_count": 15,
   "metadata": {},
   "outputs": [
    {
     "data": {
      "text/plain": [
       "[<matplotlib.lines.Line2D at 0x24f09608d60>]"
      ]
     },
     "execution_count": 15,
     "metadata": {},
     "output_type": "execute_result"
    },
    {
     "data": {
      "image/png": "[encoded data removed]",
      "text/plain": [
       "<Figure size 432x288 with 1 Axes>"
      ]
     },
     "metadata": {
      "needs_background": "light"
     },
     "output_type": "display_data"
    }
   ],
   "source": [
    "plt.plot(data_oil)"
   ]
  },
  {
   "cell_type": "code",
   "execution_count": 16,
   "metadata": {
    "scrolled": true
   },
   "outputs": [
    {
     "name": "stdout",
     "output_type": "stream",
     "text": [
      "[[0.11335703]\n",
      " [0.11661484]\n",
      " [0.12053902]\n",
      " ...\n",
      " [0.46497853]\n",
      " [0.47038353]\n",
      " [0.47149415]]\n"
     ]
    }
   ],
   "source": [
    "print(data_oil)"
   ]
  },
  {
   "cell_type": "code",
   "execution_count": 17,
   "metadata": {},
   "outputs": [],
   "source": [
    "closing_values = np.reshape(data['Closing Value'].values,(-1,1))"
   ]
  },
  {
   "cell_type": "markdown",
   "metadata": {},
   "source": [
    "### splitting dataset into train and test split"
   ]
  },
  {
   "cell_type": "code",
   "execution_count": 18,
   "metadata": {
    "scrolled": true
   },
   "outputs": [
    {
     "data": {
      "text/plain": [
       "array([[25.56],\n",
       "       [26.  ],\n",
       "       [26.53],\n",
       "       ...,\n",
       "       [73.05],\n",
       "       [73.78],\n",
       "       [73.93]])"
      ]
     },
     "execution_count": 18,
     "metadata": {},
     "output_type": "execute_result"
    }
   ],
   "source": [
    "closing_values"
   ]
  },
  {
   "cell_type": "code",
   "execution_count": 19,
   "metadata": {},
   "outputs": [],
   "source": [
    "training_size=int(len(closing_values)*0.65)\n",
    "test_size=len(closing_values)-training_size\n",
    "train_data,test_data=closing_values[:training_size],closing_values[training_size:]"
   ]
  },
  {
   "cell_type": "code",
   "execution_count": 20,
   "metadata": {},
   "outputs": [
    {
     "data": {
      "text/plain": [
       "(5340, 2876)"
      ]
     },
     "execution_count": 20,
     "metadata": {},
     "output_type": "execute_result"
    }
   ],
   "source": [
    "training_size,test_size"
   ]
  },
  {
   "cell_type": "code",
   "execution_count": 21,
   "metadata": {},
   "outputs": [
    {
     "data": {
      "text/plain": [
       "(5340, 1)"
      ]
     },
     "execution_count": 21,
     "metadata": {},
     "output_type": "execute_result"
    }
   ],
   "source": [
    "train_data.shape"
   ]
  },
  {
   "cell_type": "code",
   "execution_count": 22,
   "metadata": {},
   "outputs": [],
   "source": [
    "# convert an array of values into a dataset matrix\n",
    "def create_dataset(dataset, time_step=1):\n",
    "\tdataX, dataY = [], []\n",
    "\tfor i in range(len(dataset)-time_step-1):\n",
    "\t\ta = dataset[i:(i+time_step), 0]   ###i=0, 0,1,2,3-----99   100 \n",
    "\t\tdataX.append(a)\n",
    "\t\tdataY.append(dataset[i + time_step, 0])\n",
    "\treturn np.array(dataX), np.array(dataY)"
   ]
  },
  {
   "cell_type": "code",
   "execution_count": 23,
   "metadata": {},
   "outputs": [],
   "source": [
    "# reshape into X=t,t+1,t+2,t+3 and Y=t+4\n",
    "time_step = 10\n",
    "X_train, y_train = create_dataset(train_data, time_step)\n",
    "X_test, ytest = create_dataset(test_data, time_step)"
   ]
  },
  {
   "cell_type": "code",
   "execution_count": 24,
   "metadata": {},
   "outputs": [
    {
     "data": {
      "text/plain": [
       "((5329, 10), (5329,))"
      ]
     },
     "execution_count": 24,
     "metadata": {},
     "output_type": "execute_result"
    }
   ],
   "source": [
    "X_train.shape,y_train.shape"
   ]
  },
  {
   "cell_type": "code",
   "execution_count": 25,
   "metadata": {},
   "outputs": [
    {
     "data": {
      "text/plain": [
       "((2865, 10), (2865,))"
      ]
     },
     "execution_count": 25,
     "metadata": {},
     "output_type": "execute_result"
    }
   ],
   "source": [
    "X_test.shape, ytest.shape"
   ]
  },
  {
   "cell_type": "code",
   "execution_count": 26,
   "metadata": {},
   "outputs": [
    {
     "data": {
      "text/plain": [
       "array([[25.56, 26.  , 26.53, ..., 25.08, 24.97, 25.18],\n",
       "       [26.  , 26.53, 25.85, ..., 24.97, 25.18, 23.98],\n",
       "       [26.53, 25.85, 25.87, ..., 25.18, 23.98, 23.63],\n",
       "       ...,\n",
       "       [59.86, 57.76, 58.98, ..., 59.4 , 60.28, 60.28],\n",
       "       [57.76, 58.98, 58.  , ..., 60.28, 60.28, 61.41],\n",
       "       [58.98, 58.  , 57.92, ..., 60.28, 61.41, 61.46]])"
      ]
     },
     "execution_count": 26,
     "metadata": {},
     "output_type": "execute_result"
    }
   ],
   "source": [
    "X_train"
   ]
  },
  {
   "cell_type": "code",
   "execution_count": 27,
   "metadata": {},
   "outputs": [
    {
     "data": {
      "text/plain": [
       "array([23.98, 23.63, 21.33, ..., 61.41, 61.46, 61.78])"
      ]
     },
     "execution_count": 27,
     "metadata": {},
     "output_type": "execute_result"
    }
   ],
   "source": [
    "y_train"
   ]
  },
  {
   "cell_type": "code",
   "execution_count": 28,
   "metadata": {},
   "outputs": [],
   "source": [
    "# reshape input to be [samples, time steps, features] which is required for LSTM\n",
    "X_train =X_train.reshape(X_train.shape[0],X_train.shape[1] , 1)\n",
    "X_test = X_test.reshape(X_test.shape[0],X_test.shape[1] , 1)"
   ]
  },
  {
   "cell_type": "markdown",
   "metadata": {},
   "source": [
    "## Create the Stacked LSTM model"
   ]
  },
  {
   "cell_type": "code",
   "execution_count": 29,
   "metadata": {},
   "outputs": [],
   "source": [
    "#tensorflow :open source used for both ML and DL for computation\n",
    "from tensorflow.keras.models import Sequential#it is a plain stack of layers\n",
    "from tensorflow.keras.layers import Dense#Dense layer is the regular deeply connected neural network layer\n",
    "from tensorflow.keras.layers import LSTM #Long Short Trem Memory"
   ]
  },
  {
   "cell_type": "code",
   "execution_count": 30,
   "metadata": {},
   "outputs": [],
   "source": [
    "model=Sequential()\n",
    "model.add(LSTM(50,return_sequences=True,input_shape=(10,1)))\n",
    "model.add(LSTM(50,return_sequences=True))\n",
    "model.add(LSTM(50))\n",
    "model.add(Dense(1))\n",
    "model.compile(loss='mean_squared_error',optimizer='adam')"
   ]
  },
  {
   "cell_type": "code",
   "execution_count": 31,
   "metadata": {},
   "outputs": [
    {
     "name": "stdout",
     "output_type": "stream",
     "text": [
      "Model: \"sequential\"\n",
      "_________________________________________________________________\n",
      " Layer (type)                Output Shape              Param #   \n",
      "=================================================================\n",
      " lstm (LSTM)                 (None, 10, 50)            10400     \n",
      "                                                                 \n",
      " lstm_1 (LSTM)               (None, 10, 50)            20200     \n",
      "                                                                 \n",
      " lstm_2 (LSTM)               (None, 50)                20200     \n",
      "                                                                 \n",
      " dense (Dense)               (None, 1)                 51        \n",
      "                                                                 \n",
      "=================================================================\n",
      "Total params: 50,851\n",
      "Trainable params: 50,851\n",
      "Non-trainable params: 0\n",
      "_________________________________________________________________\n"
     ]
    }
   ],
   "source": [
    "model.summary()"
   ]
  },
  {
   "cell_type": "code",
   "execution_count": 32,
   "metadata": {},
   "outputs": [
    {
     "name": "stdout",
     "output_type": "stream",
     "text": [
      "Epoch 1/50\n",
      "84/84 [==============================] - 15s 59ms/step - loss: 601.4346 - val_loss: 4914.6548\n",
      "Epoch 2/50\n",
      "84/84 [==============================] - 3s 33ms/step - loss: 393.5793 - val_loss: 4403.0815\n",
      "Epoch 3/50\n",
      "84/84 [==============================] - 3s 32ms/step - loss: 303.2302 - val_loss: 4012.0974\n",
      "Epoch 4/50\n",
      "84/84 [==============================] - 3s 32ms/step - loss: 248.8258 - val_loss: 3712.9409\n",
      "Epoch 5/50\n",
      "84/84 [==============================] - 3s 32ms/step - loss: 217.7789 - val_loss: 3487.0063\n",
      "Epoch 6/50\n",
      "84/84 [==============================] - 3s 31ms/step - loss: 201.5539 - val_loss: 3325.9741\n",
      "Epoch 7/50\n",
      "84/84 [==============================] - 3s 32ms/step - loss: 193.6324 - val_loss: 3213.9280\n",
      "Epoch 8/50\n",
      "84/84 [==============================] - 3s 32ms/step - loss: 190.1348 - val_loss: 3139.9285\n",
      "Epoch 9/50\n",
      "84/84 [==============================] - 3s 31ms/step - loss: 188.7038 - val_loss: 3091.4963\n",
      "Epoch 10/50\n",
      "84/84 [==============================] - 3s 31ms/step - loss: 188.1808 - val_loss: 3062.6960\n",
      "Epoch 11/50\n",
      "84/84 [==============================] - 3s 31ms/step - loss: 187.9953 - val_loss: 3049.2407\n",
      "Epoch 12/50\n",
      "84/84 [==============================] - 3s 32ms/step - loss: 187.9319 - val_loss: 3033.6140\n",
      "Epoch 13/50\n",
      "84/84 [==============================] - 3s 33ms/step - loss: 187.9026 - val_loss: 3031.4387\n",
      "Epoch 14/50\n",
      "84/84 [==============================] - 3s 31ms/step - loss: 187.9143 - val_loss: 3025.9802\n",
      "Epoch 15/50\n",
      "84/84 [==============================] - 3s 31ms/step - loss: 187.9143 - val_loss: 3030.3979\n",
      "Epoch 16/50\n",
      "84/84 [==============================] - 3s 32ms/step - loss: 187.9209 - val_loss: 3031.2056\n",
      "Epoch 17/50\n",
      "84/84 [==============================] - 3s 31ms/step - loss: 187.9058 - val_loss: 3024.9287\n",
      "Epoch 18/50\n",
      "84/84 [==============================] - 3s 32ms/step - loss: 187.9128 - val_loss: 3026.4004\n",
      "Epoch 19/50\n",
      "84/84 [==============================] - 3s 31ms/step - loss: 187.9385 - val_loss: 3019.1609\n",
      "Epoch 20/50\n",
      "84/84 [==============================] - 3s 31ms/step - loss: 187.9163 - val_loss: 3022.3362\n",
      "Epoch 21/50\n",
      "84/84 [==============================] - 3s 32ms/step - loss: 187.9291 - val_loss: 3029.1682\n",
      "Epoch 22/50\n",
      "84/84 [==============================] - 3s 32ms/step - loss: 187.9040 - val_loss: 3028.5801\n",
      "Epoch 23/50\n",
      "84/84 [==============================] - 3s 31ms/step - loss: 187.9039 - val_loss: 3027.0051\n",
      "Epoch 24/50\n",
      "84/84 [==============================] - 3s 32ms/step - loss: 187.8895 - val_loss: 3030.3398\n",
      "Epoch 25/50\n",
      "84/84 [==============================] - 3s 32ms/step - loss: 178.1837 - val_loss: 2957.7637\n",
      "Epoch 26/50\n",
      "84/84 [==============================] - 3s 32ms/step - loss: 118.4801 - val_loss: 2505.6216\n",
      "Epoch 27/50\n",
      "84/84 [==============================] - 3s 32ms/step - loss: 87.4276 - val_loss: 2185.9990\n",
      "Epoch 28/50\n",
      "84/84 [==============================] - 3s 32ms/step - loss: 67.0307 - val_loss: 1938.3912\n",
      "Epoch 29/50\n",
      "84/84 [==============================] - 3s 32ms/step - loss: 52.0537 - val_loss: 1735.4204\n",
      "Epoch 30/50\n",
      "84/84 [==============================] - 3s 33ms/step - loss: 40.9565 - val_loss: 1575.4045\n",
      "Epoch 31/50\n",
      "84/84 [==============================] - 3s 32ms/step - loss: 32.5969 - val_loss: 1439.4113\n",
      "Epoch 32/50\n",
      "84/84 [==============================] - 3s 32ms/step - loss: 26.1196 - val_loss: 1322.6376\n",
      "Epoch 33/50\n",
      "84/84 [==============================] - 3s 31ms/step - loss: 21.1560 - val_loss: 1226.2312\n",
      "Epoch 34/50\n",
      "84/84 [==============================] - 3s 32ms/step - loss: 17.1578 - val_loss: 1140.9666\n",
      "Epoch 35/50\n",
      "84/84 [==============================] - 3s 32ms/step - loss: 14.0980 - val_loss: 1068.4164\n",
      "Epoch 36/50\n",
      "84/84 [==============================] - 3s 34ms/step - loss: 11.5729 - val_loss: 1002.5845\n",
      "Epoch 37/50\n",
      "84/84 [==============================] - 3s 33ms/step - loss: 9.6392 - val_loss: 948.8658\n",
      "Epoch 38/50\n",
      "84/84 [==============================] - 3s 32ms/step - loss: 8.0887 - val_loss: 900.3680\n",
      "Epoch 39/50\n",
      "84/84 [==============================] - 3s 33ms/step - loss: 6.9284 - val_loss: 857.8871\n",
      "Epoch 40/50\n",
      "84/84 [==============================] - 3s 31ms/step - loss: 5.9165 - val_loss: 820.1347\n",
      "Epoch 41/50\n",
      "84/84 [==============================] - 3s 32ms/step - loss: 5.0956 - val_loss: 786.4390\n",
      "Epoch 42/50\n",
      "84/84 [==============================] - 3s 32ms/step - loss: 4.4666 - val_loss: 756.1646\n",
      "Epoch 43/50\n",
      "84/84 [==============================] - 3s 32ms/step - loss: 3.9096 - val_loss: 728.5490\n",
      "Epoch 44/50\n",
      "84/84 [==============================] - 3s 32ms/step - loss: 3.4781 - val_loss: 703.8785\n",
      "Epoch 45/50\n",
      "84/84 [==============================] - 3s 31ms/step - loss: 3.1523 - val_loss: 680.3803\n",
      "Epoch 46/50\n",
      "84/84 [==============================] - 3s 32ms/step - loss: 2.8038 - val_loss: 659.6790\n",
      "Epoch 47/50\n",
      "84/84 [==============================] - 3s 32ms/step - loss: 2.5831 - val_loss: 640.5576\n",
      "Epoch 48/50\n",
      "84/84 [==============================] - 3s 31ms/step - loss: 2.3504 - val_loss: 621.8893\n",
      "Epoch 49/50\n",
      "84/84 [==============================] - 3s 32ms/step - loss: 2.1344 - val_loss: 604.4009\n",
      "Epoch 50/50\n",
      "84/84 [==============================] - 3s 32ms/step - loss: 1.9415 - val_loss: 588.4240\n"
     ]
    },
    {
     "data": {
      "text/plain": [
       "<keras.callbacks.History at 0x24f0b4cd400>"
      ]
     },
     "execution_count": 32,
     "metadata": {},
     "output_type": "execute_result"
    }
   ],
   "source": [
    "#Training the model\n",
    "model.fit(X_train,y_train,validation_data=(X_test,ytest),epochs=50,batch_size=64,verbose=1)"
   ]
  },
  {
   "cell_type": "code",
   "execution_count": 33,
   "metadata": {},
   "outputs": [
    {
     "name": "stdout",
     "output_type": "stream",
     "text": [
      "167/167 [==============================] - 3s 8ms/step\n",
      "90/90 [==============================] - 1s 9ms/step\n"
     ]
    }
   ],
   "source": [
    "## Lets Do the prediction and check performance metrics\n",
    "train_predict=model.predict(X_train)\n",
    "test_predict=model.predict(X_test)"
   ]
  },
  {
   "cell_type": "code",
   "execution_count": 34,
   "metadata": {},
   "outputs": [
    {
     "name": "stdout",
     "output_type": "stream",
     "text": [
      "1/1 [==============================] - 2s 2s/step\n"
     ]
    }
   ],
   "source": [
    "a1 = model.predict([[46,47,48,50,51,52,54,43,44,47]])"
   ]
  },
  {
   "cell_type": "code",
   "execution_count": 35,
   "metadata": {},
   "outputs": [
    {
     "data": {
      "text/plain": [
       "47.39"
      ]
     },
     "execution_count": 35,
     "metadata": {},
     "output_type": "execute_result"
    }
   ],
   "source": [
    "np.round(a1[0][0],2)"
   ]
  },
  {
   "cell_type": "code",
   "execution_count": 91,
   "metadata": {},
   "outputs": [
    {
     "data": {
      "text/plain": [
       "array([[44.039223]], dtype=float32)"
      ]
     },
     "execution_count": 91,
     "metadata": {},
     "output_type": "execute_result"
    }
   ],
   "source": [
    "model.predict([[46.45,47,48.48,50,51,52,54,43,44,47]])"
   ]
  },
  {
   "cell_type": "code",
   "execution_count": 36,
   "metadata": {},
   "outputs": [],
   "source": [
    "train_predict=scaler.inverse_transform(train_predict)\n",
    "test_predict=scaler.inverse_transform(test_predict)"
   ]
  },
  {
   "cell_type": "markdown",
   "metadata": {},
   "source": [
    "### model evaluation"
   ]
  },
  {
   "cell_type": "code",
   "execution_count": 37,
   "metadata": {},
   "outputs": [
    {
     "data": {
      "text/plain": [
       "3910.0188582226074"
      ]
     },
     "execution_count": 37,
     "metadata": {},
     "output_type": "execute_result"
    }
   ],
   "source": [
    "### Calculate RMSE performance metrics\n",
    "import math\n",
    "from sklearn.metrics import mean_squared_error\n",
    "math.sqrt(mean_squared_error(y_train,train_predict))"
   ]
  },
  {
   "cell_type": "code",
   "execution_count": 38,
   "metadata": {},
   "outputs": [
    {
     "data": {
      "text/plain": [
       "7989.126095093944"
      ]
     },
     "execution_count": 38,
     "metadata": {},
     "output_type": "execute_result"
    }
   ],
   "source": [
    "### Test Data RMSE\n",
    "math.sqrt(mean_squared_error(ytest,test_predict))"
   ]
  },
  {
   "cell_type": "code",
   "execution_count": 39,
   "metadata": {},
   "outputs": [],
   "source": [
    "model.save(\"crude_oil.h5\")"
   ]
  },
  {
   "cell_type": "code",
   "execution_count": 40,
   "metadata": {},
   "outputs": [
    {
     "data": {
      "image/png": "[encoded data removed]",
      "text/plain": [
       "<Figure size 432x288 with 1 Axes>"
      ]
     },
     "metadata": {
      "needs_background": "light"
     },
     "output_type": "display_data"
    }
   ],
   "source": [
    "look_back=10\n",
    "trainPredictPlot=np.empty_like(data_oil)\n",
    "trainPredictPlot[:,:]=np.nan\n",
    "trainPredictPlot[look_back:len(train_predict)+look_back,:]=train_predict\n",
    "testPredictPlot=np.empty_like(data_oil)\n",
    "testPredictPlot[:,:]=np.nan\n",
    "testPredictPlot[len(train_predict)+(look_back*2)+1:len(data_oil)-1,:]=test_predict\n",
    "plt.plot(scaler.inverse_transform(data_oil))\n",
    "plt.plot(trainPredictPlot)\n",
    "plt.plot(testPredictPlot)\n",
    "plt.show()"
   ]
  },
  {
   "cell_type": "code",
   "execution_count": 41,
   "metadata": {},
   "outputs": [
    {
     "data": {
      "text/plain": [
       "2876"
      ]
     },
     "execution_count": 41,
     "metadata": {},
     "output_type": "execute_result"
    }
   ],
   "source": [
    "len(test_data)"
   ]
  },
  {
   "cell_type": "code",
   "execution_count": 42,
   "metadata": {},
   "outputs": [
    {
     "data": {
      "text/plain": [
       "(1, 10)"
      ]
     },
     "execution_count": 42,
     "metadata": {},
     "output_type": "execute_result"
    }
   ],
   "source": [
    "x_input=test_data[2866:].reshape(1,-1)\n",
    "x_input.shape"
   ]
  },
  {
   "cell_type": "code",
   "execution_count": 43,
   "metadata": {},
   "outputs": [],
   "source": [
    "temp_input=list(x_input)\n",
    "temp_input=temp_input[0].tolist()"
   ]
  },
  {
   "cell_type": "code",
   "execution_count": 44,
   "metadata": {},
   "outputs": [
    {
     "data": {
      "text/plain": [
       "[69.91, 75.23, 77.41, 73.45, 74.13, 73.89, 74.19, 73.05, 73.78, 73.93]"
      ]
     },
     "execution_count": 44,
     "metadata": {},
     "output_type": "execute_result"
    }
   ],
   "source": [
    "temp_input"
   ]
  },
  {
   "cell_type": "code",
   "execution_count": 46,
   "metadata": {},
   "outputs": [
    {
     "name": "stdout",
     "output_type": "stream",
     "text": [
      "0 day input [75.23       77.41       73.45       74.13       73.89       74.19\n",
      " 73.05       73.78       73.93       64.27481842]\n",
      "0 day output [[64.272316]]\n",
      "1 day input [77.41       73.45       74.13       73.89       74.19       73.05\n",
      " 73.78       73.93       64.27481842 64.27231598]\n",
      "1 day output [[64.26899]]\n",
      "2 day input [73.45       74.13       73.89       74.19       73.05       73.78\n",
      " 73.93       64.27481842 64.27231598 64.26898956]\n",
      "2 day output [[64.26369]]\n",
      "3 day input [74.13       73.89       74.19       73.05       73.78       73.93\n",
      " 64.27481842 64.27231598 64.26898956 64.26368713]\n",
      "3 day output [[64.25452]]\n",
      "4 day input [73.89       74.19       73.05       73.78       73.93       64.27481842\n",
      " 64.27231598 64.26898956 64.26368713 64.2545166 ]\n",
      "4 day output [[64.239204]]\n",
      "5 day input [74.19       73.05       73.78       73.93       64.27481842 64.27231598\n",
      " 64.26898956 64.26368713 64.2545166  64.23920441]\n",
      "5 day output [[64.215965]]\n",
      "6 day input [73.05       73.78       73.93       64.27481842 64.27231598 64.26898956\n",
      " 64.26368713 64.2545166  64.23920441 64.21596527]\n",
      "6 day output [[64.186325]]\n",
      "7 day input [73.78       73.93       64.27481842 64.27231598 64.26898956 64.26368713\n",
      " 64.2545166  64.23920441 64.21596527 64.18632507]\n",
      "7 day output [[64.156204]]\n",
      "8 day input [73.93       64.27481842 64.27231598 64.26898956 64.26368713 64.2545166\n",
      " 64.23920441 64.21596527 64.18632507 64.15620422]\n",
      "8 day output [[64.13371]]\n",
      "9 day input [64.27481842 64.27231598 64.26898956 64.26368713 64.2545166  64.23920441\n",
      " 64.21596527 64.18632507 64.15620422 64.13371277]\n",
      "9 day output [[64.12924]]\n"
     ]
    }
   ],
   "source": [
    "lst_output=[]\n",
    "n_steps=10\n",
    "i=0\n",
    "while(i<10):\n",
    "    if(len(temp_input)>10):\n",
    "        x_input=np.array(temp_input[1:])\n",
    "        print(\"{} day input {}\".format(i,x_input))\n",
    "        x_input=x_input.reshape(1,-1)\n",
    "        x_input=x_input.reshape((1,n_steps,1))\n",
    "        yhat=model.predict(x_input,verbose=0)\n",
    "        print(\"{} day output {}\".format(i,yhat))\n",
    "        temp_input.extend(yhat[0].tolist())\n",
    "        temp_input=temp_input[1:]\n",
    "        lst_output.extend(yhat.tolist())\n",
    "        i=i+1\n",
    "    else:\n",
    "        x_input=x_input.reshape((1,n_steps,1))\n",
    "        yhat=model.predict(x_input,verbose=0)\n",
    "        print(yhat[0])\n",
    "        temp_input.extend(yhat[0].tolist())\n",
    "        print(len(temp_input))\n",
    "        lst_output.extend(yhat.tolist())\n",
    "        i=i+1"
   ]
  },
  {
   "cell_type": "code",
   "execution_count": 48,
   "metadata": {},
   "outputs": [],
   "source": [
    "day_new=np.arange(1,11)\n",
    "day_pred=np.arange(11,21)"
   ]
  },
  {
   "cell_type": "code",
   "execution_count": 49,
   "metadata": {},
   "outputs": [
    {
     "data": {
      "text/plain": [
       "8216"
      ]
     },
     "execution_count": 49,
     "metadata": {},
     "output_type": "execute_result"
    }
   ],
   "source": [
    "len(data_oil)"
   ]
  },
  {
   "cell_type": "code",
   "execution_count": 50,
   "metadata": {},
   "outputs": [
    {
     "data": {
      "text/plain": [
       "[<matplotlib.lines.Line2D at 0x24f19321c40>]"
      ]
     },
     "execution_count": 50,
     "metadata": {},
     "output_type": "execute_result"
    },
    {
     "data": {
      "image/png": "[encoded data removed]",
      "text/plain": [
       "<Figure size 432x288 with 1 Axes>"
      ]
     },
     "metadata": {
      "needs_background": "light"
     },
     "output_type": "display_data"
    }
   ],
   "source": [
    "plt.plot(day_new,scaler.inverse_transform(data_oil[8206:]))\n",
    "plt.plot(day_pred,scaler.inverse_transform(lst_output))"
   ]
  },
  {
   "cell_type": "code",
   "execution_count": 51,
   "metadata": {},
   "outputs": [
    {
     "data": {
      "text/plain": [
       "[<matplotlib.lines.Line2D at 0x24f19563e50>]"
      ]
     },
     "execution_count": 51,
     "metadata": {},
     "output_type": "execute_result"
    },
    {
     "data": {
      "image/png": "[encoded data removed]",
      "text/plain": [
       "<Figure size 432x288 with 1 Axes>"
      ]
     },
     "metadata": {
      "needs_background": "light"
     },
     "output_type": "display_data"
    }
   ],
   "source": [
    "df3=data_oil.tolist()\n",
    "df3.extend(lst_output)\n",
    "plt.plot(df3[8100:])"
   ]
  },
  {
   "cell_type": "code",
   "execution_count": 52,
   "metadata": {},
   "outputs": [],
   "source": [
    "df3=scaler.inverse_transform(df3).tolist()"
   ]
  },
  {
   "cell_type": "code",
   "execution_count": null,
   "metadata": {},
   "outputs": [],
   "source": []
  }
 ],
 "metadata": {
  "kernelspec": {
   "display_name": "Python 3 (ipykernel)",
   "language": "python",
   "name": "python3"
  },
  "language_info": {
   "codemirror_mode": {
    "name": "ipython",
    "version": 3
   },
   "file_extension": ".py",
   "mimetype": "text/x-python",
   "name": "python",
   "nbconvert_exporter": "python",
   "pygments_lexer": "ipython3",
   "version": "3.9.7"
  }
 },
 "nbformat": 4,
 "nbformat_minor": 4
}
